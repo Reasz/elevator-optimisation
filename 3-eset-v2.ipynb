{
 "cells": [
  {
   "cell_type": "code",
   "execution_count": 1,
   "metadata": {},
   "outputs": [],
   "source": [
    "import random\n",
    "import numpy as np\n",
    "import matplotlib.pyplot as plt"
   ]
  },
  {
   "attachments": {},
   "cell_type": "markdown",
   "metadata": {},
   "source": [
    "functions for the genetic algoritm"
   ]
  },
  {
   "cell_type": "code",
   "execution_count": 2,
   "metadata": {},
   "outputs": [],
   "source": [
    "# generating a set of feasible solutions / cronosomes\n",
    "# every gene is a level where there is a call, the elements are the order in wich they are answered\n",
    "def generateChronosome(size):\n",
    "    chronosome = list(range(1, size+1))\n",
    "    random.shuffle(chronosome)\n",
    "    return chronosome\n",
    "\n",
    "def generateChronosomes(size, m):\n",
    "    chronosomes = []\n",
    "    for i in range(0, m):\n",
    "        chronosome = generateChronosome(size)\n",
    "        chronosomes.append(chronosome)\n",
    "    return chronosomes\n",
    "\n",
    "# fitness\n",
    "def countFitness(FN, CN, DF, CB, CA, DB, BFT, LT, OT, CT):\n",
    "    N1 = abs(FN - CN) # N1 - number of floor between passanger and elevator\n",
    "    N2 = abs(FN - DF) # N2 - number of floors between passanger and elevator\n",
    "    WT = BFT + N1 + LT * CB + LT * DB + OT # waiting time of a passanger\n",
    "    DT = CT + LT * CA + BFT * N2 + LT * DB + OT # destination time of a passanger\n",
    "    JT = DT + WT # journey time, the obj of the EDP\n",
    "    return JT\n",
    "\n",
    "# count fitness for every chronosome\n",
    "def countFitnessForChronosomes(elevator_floor, calls, chronosomes, BFT, LT, OT, CT):\n",
    "    fitness_values = []\n",
    "    n = len(chronosomes[0])\n",
    "    FN = elevator_floor\n",
    "    for chronosome in chronosomes:\n",
    "        fitness = 0\n",
    "        CB = 0 # CB - number of calls made before current passanger\n",
    "        DB = 0 # DB - number of drops offs before current passanger\n",
    "        for i in range(0, n):\n",
    "            CN = calls[chronosome[i] - 1][0]\n",
    "            DF = calls[chronosome[i] - 1][1]\n",
    "            CA = n - i - 1 # CA - number of calls made after the current passanger\n",
    "            fitness += countFitness(FN, CN, DF, CB, CA, DB, BFT, LT, OT, CT)\n",
    "            CB += 1\n",
    "            for j in range(chronosome[i] - 1, len(calls)):\n",
    "                if FN < calls[j][1] < DF:\n",
    "                    DB += 1\n",
    "            FN = calls[chronosome[i] - 1][1]\n",
    "        fitness_values.append(fitness / n)\n",
    "    return fitness_values\n",
    "\n",
    "# helper\n",
    "\n",
    "def getWinner(fitness_values, chronosomes):\n",
    "    sorted_indexes = np.argsort(fitness_values).tolist()\n",
    "    elite_member = chronosomes[sorted_indexes[0]]\n",
    "    best_fitness = fitness_values[sorted_indexes[0]]\n",
    "    return elite_member, best_fitness"
   ]
  },
  {
   "attachments": {},
   "cell_type": "markdown",
   "metadata": {},
   "source": [
    "crossover variants\n"
   ]
  },
  {
   "cell_type": "code",
   "execution_count": 3,
   "metadata": {},
   "outputs": [],
   "source": [
    "#helper\n",
    "def fill_in_zeros(child, values, size):\n",
    "    j=0\n",
    "    for i in range (0, size):\n",
    "        if child[i] == 0:\n",
    "            child[i] = values[j]\n",
    "            j += 1\n",
    "    return child\n",
    "\n",
    "def orderCrossover(parent1, parent2):\n",
    "    number_of_genes = len(parent1)\n",
    "    child = number_of_genes * [0]\n",
    "    a = random.randint(1,number_of_genes - 1)\n",
    "    b = random.randint(1,number_of_genes - 1)\n",
    "    start = min(a, b)\n",
    "    stop = max(a, b)\n",
    "    for i in range (start, stop+1):\n",
    "        child[i] = parent1[i]\n",
    "    c = [i for i in parent2 if i not in child]\n",
    "    child = fill_in_zeros(child, c, number_of_genes)\n",
    "    return child\n",
    "\n",
    "def position_based_crossover(parent1, parent2):\n",
    "    number_of_genes = len(parent1)\n",
    "    number_of_genes_to_swap = random.randint(1, number_of_genes-1)\n",
    "    positions = random.sample(range(number_of_genes), number_of_genes_to_swap)\n",
    "    child = [0] * number_of_genes\n",
    "\n",
    "    for i in positions:\n",
    "        child[i] = parent1[i]\n",
    "    c = [i for i in parent2 if i not in child]\n",
    "    child = fill_in_zeros(child, c, number_of_genes)\n",
    "    return child\n",
    "    \n",
    "def order_based_crossover(p1, p2):\n",
    "    number_of_genes = len(p1)\n",
    "    number_of_genes_to_swap = random.randint(1, number_of_genes-1)\n",
    "    positions_from_second_parent = random.sample(range(number_of_genes), number_of_genes_to_swap)\n",
    "    child = [0] * number_of_genes\n",
    "    values_in_first_parent = []\n",
    "    positions_in_first_parent = []\n",
    "\n",
    "    for i in positions_from_second_parent:\n",
    "        values_in_first_parent.append(p2[i])\n",
    "    \n",
    "    for i in values_in_first_parent:\n",
    "        positions_in_first_parent.append(p1.index(i))\n",
    "\n",
    "    positions_in_first_parent.sort()\n",
    "    j = 0\n",
    "    for i in positions_in_first_parent:\n",
    "        child[i] = values_in_first_parent[j]\n",
    "        j += 1\n",
    "\n",
    "    c = [i for i in p1 if i not in child]\n",
    "    child = fill_in_zeros(child, c, number_of_genes)\n",
    "    return child\n"
   ]
  },
  {
   "attachments": {},
   "cell_type": "markdown",
   "metadata": {},
   "source": [
    "mutation variants"
   ]
  },
  {
   "cell_type": "code",
   "execution_count": 4,
   "metadata": {},
   "outputs": [],
   "source": [
    "def swapMutation(number_of_genes, mutant_member):\n",
    "    a = random.randint(0, number_of_genes - 1)\n",
    "    b = random.randint(0, number_of_genes - 1)\n",
    "    gene = mutant_member[a]\n",
    "    mutant_member[a] = mutant_member[b]\n",
    "    mutant_member[b] = gene\n",
    "    return mutant_member\n",
    "\n",
    "def inversion_mutation(mutant_member):\n",
    "    number_of_genes = len(mutant_member)\n",
    "    a = random.randint(1,number_of_genes - 1)\n",
    "    b = random.randint(1,number_of_genes - 1)\n",
    "    start = min(a, b)\n",
    "    stop = max(a, b)\n",
    "    start = 2\n",
    "    stop = 5\n",
    "    cc = mutant_member[:]\n",
    "    pos = stop\n",
    "    for i in range(start, stop+1):\n",
    "        mutant_member[i] = cc[pos]\n",
    "        pos -= 1\n",
    "    return mutant_member\n",
    "\n",
    "def insertion_mutation(mutant_member):\n",
    "    number_of_genes = len(mutant_member)\n",
    "    positions = random.sample(range(number_of_genes), 2)\n",
    "    pos1 = positions[0]\n",
    "    pos2 = positions[1]\n",
    "    first_half = mutant_member[:pos2]\n",
    "    second_half = mutant_member[pos2:]\n",
    "    if (first_half.count(mutant_member[pos1])):\n",
    "        first_half.remove(mutant_member[pos1])\n",
    "    elif (second_half.count(mutant_member[pos1])):\n",
    "        second_half.remove(mutant_member[pos1])\n",
    "    first_half.append(mutant_member[pos1])\n",
    "    mutant_member = first_half + second_half\n",
    "    return mutant_member\n",
    "\n",
    "def exchange_mutation(mutant_member):\n",
    "    number_of_genes = len(mutant_member)\n",
    "    positions = random.sample(range(number_of_genes), 2)\n",
    "    a = mutant_member[positions[0]]\n",
    "    mutant_member[positions[0]] = mutant_member[positions[1]]\n",
    "    mutant_member[positions[1]] = a\n",
    "    return mutant_member"
   ]
  },
  {
   "attachments": {},
   "cell_type": "markdown",
   "metadata": {},
   "source": [
    "functions for the measurements"
   ]
  },
  {
   "cell_type": "code",
   "execution_count": 5,
   "metadata": {},
   "outputs": [],
   "source": [
    "# wait time for a passenger to the elevator\n",
    "def countPassangerWaitTimeForElevator(FN, CN, CB, DB, BFT, LT, OT):\n",
    "    N1 = abs(FN - CN) # N1 - number of floor between passanger and elevator\n",
    "    WT = BFT + N1 + LT * CB + LT * DB + OT # waiting time of a passanger\n",
    "    return WT\n",
    "\n",
    "# wait times for passangers, calculated from the solution\n",
    "def calculateWaitTimesForElevatorFromChronosome(elevator_start_floor, calls_from_article, solution, BFT, LT, OT):\n",
    "    FN = elevator_start_floor\n",
    "    calls = calls_from_article\n",
    "    wait_times = []\n",
    "    DB = 0\n",
    "    CB = 0\n",
    "    for i in range(0, len(solution)):\n",
    "        CN = calls[solution[i] - 1][0]\n",
    "        DF = calls[solution[i] - 1][1]\n",
    "        WT = countPassangerWaitTimeForElevator(FN, CN, CB, DB, BFT, LT, OT)\n",
    "        CB += 1\n",
    "        for j in range(solution[i] - 1, len(calls)):\n",
    "            if FN < calls[j][1] < DF:\n",
    "                DB += 1\n",
    "        FN = calls[solution[i] - 1][1]\n",
    "        wait_times.append(WT)\n",
    "    return wait_times"
   ]
  },
  {
   "cell_type": "code",
   "execution_count": 6,
   "metadata": {},
   "outputs": [],
   "source": [
    "# data from x iteration\n",
    "def iterateOver(max_it, genetic_i_max):\n",
    "    sum_fit = 0\n",
    "    waits = 0\n",
    "    bests = []\n",
    "    for i in range(0, max_it):\n",
    "        solution, fitness, all_fitness_winners = geneticAlgorithm(\n",
    "            elevator_start_floor, m, BFT, LT, OT, CT, number_of_genes, calls_from_article, \n",
    "            genetic_i_max, crossover_rate, mutation_rate, crossover_type, mutation_type)\n",
    "        sum_fit += fitness\n",
    "        \n",
    "        wait_times = calculateWaitTimesForElevatorFromChronosome(elevator_start_floor, calls_from_article, solution, BFT, LT, OT)\n",
    "        wait = np.mean(wait_times)\n",
    "        waits += wait\n",
    "        bests.append(fitness)\n",
    "    avg_fitness = sum_fit / max_it\n",
    "    avg_wait = waits / 60\n",
    "    return avg_fitness, avg_wait, bests"
   ]
  },
  {
   "attachments": {},
   "cell_type": "markdown",
   "metadata": {},
   "source": [
    "for the tables"
   ]
  },
  {
   "cell_type": "code",
   "execution_count": 7,
   "metadata": {},
   "outputs": [],
   "source": [
    "# every crossover and mutation\n",
    "def iterateOverExtra(max_it,crossover, mutation, crossover_rate, mutation_rate, calls):\n",
    "    sum_fit = 0\n",
    "    waits = 0\n",
    "    bests = []\n",
    "    for i in range(0, max_it):\n",
    "        solution, fitness, all_fitness_winners = geneticAlgorithm(\n",
    "            elevator_start_floor, m, BFT, LT, OT, CT, number_of_genes, calls, \n",
    "            i_max, crossover_rate, mutation_rate, crossover, mutation)\n",
    "        sum_fit += fitness\n",
    "\n",
    "        wait_times = calculateWaitTimesForElevatorFromChronosome(elevator_start_floor, calls, solution, BFT, LT, OT)\n",
    "        wait = np.mean(wait_times)\n",
    "        waits += wait\n",
    "        bests.append(fitness)\n",
    "    avg_fitness = sum_fit / max_it\n",
    "    avg_wait = waits / 60\n",
    "    return avg_fitness, avg_wait, bests\n",
    "\n",
    "\n",
    "def go_over_all_crossover_and_mutation_at_rates_with_data(crossover_r, mutation_r, calls, maxi):\n",
    "    crossovers = [1,2,3]\n",
    "    mutations = [1,2,3,4]\n",
    "\n",
    "    max_it = maxi\n",
    "\n",
    "    x = 1\n",
    "    for crossover in crossovers:\n",
    "        for mutation in mutations:\n",
    "            \n",
    "            avg_fitness, avg_wait, bests =  iterateOverExtra(max_it, crossover, mutation, crossover_r, mutation_r, calls)\n",
    "            \n",
    "            print(\"E\", x, \"& $\", round(avg_fitness, 3), \"$ & $\", min(bests), \"$ & $\", max(bests), \"$ & $\", round(avg_wait, 3), '$ \\\\\\\\')\n",
    "            print(\"\\hline\")\n",
    "            x += 1\n",
    "        print()"
   ]
  },
  {
   "attachments": {},
   "cell_type": "markdown",
   "metadata": {},
   "source": [
    "genetic algoritm"
   ]
  },
  {
   "cell_type": "code",
   "execution_count": 8,
   "metadata": {},
   "outputs": [],
   "source": [
    "def geneticAlgorithm(elevator_floor, m, BFT, LT, OT, CT, number_of_genes, calls, i_max, crossover_rate, mutation_rate, crossover_type, mutation_type):\n",
    "    chronosomes = generateChronosomes(number_of_genes, m)\n",
    "\n",
    "    fitness_values = countFitnessForChronosomes(elevator_floor, calls, chronosomes, BFT, LT, OT, CT)\n",
    "    all_fitness_winners = []\n",
    "    \n",
    "    for i in range (0, i_max):\n",
    "        \n",
    "        # categorisation by fitness values : elite, cross-over, mutant\n",
    "        sorted_indexes = np.argsort(fitness_values).tolist()\n",
    "        elite_member = chronosomes[sorted_indexes[0]]\n",
    "        crossover_member_1 = chronosomes[sorted_indexes[1]]\n",
    "        crossover_member_2 = chronosomes[sorted_indexes[2]]\n",
    "        mutant_member = chronosomes[sorted_indexes[3]]\n",
    "\n",
    "        sv = fitness_values[sorted_indexes[0]]\n",
    "\n",
    "        # cross-over operations -- Davis cross-over (order crossover)\n",
    "        crossover = False\n",
    "        if random.uniform(0, 1) > crossover_rate:\n",
    "            crossover = True\n",
    "            match crossover_type:\n",
    "                case 1:\n",
    "                    child = orderCrossover(crossover_member_1, crossover_member_2)\n",
    "                case 2: \n",
    "                    child = position_based_crossover(crossover_member_1, crossover_member_2)\n",
    "                case 3:\n",
    "                    child = order_based_crossover(crossover_member_1, crossover_member_2)\n",
    "                \n",
    "        # mutation operations -- swap mutation -- select two pos at random and swap them\n",
    "        mutation = False\n",
    "        if random.uniform(0, 1) > mutation_rate:\n",
    "            mutation = True\n",
    "            match mutation_type:\n",
    "                case 1:\n",
    "                    mutated = swapMutation(number_of_genes, mutant_member)\n",
    "                case 2: \n",
    "                    mutated = inversion_mutation(mutant_member)\n",
    "                case 3:\n",
    "                    mutated = insertion_mutation(mutant_member)\n",
    "                case 4:\n",
    "                    mutated = exchange_mutation(mutant_member)\n",
    "\n",
    "        # compute fitness values again after the operations\n",
    "        new_chronosomes = []\n",
    "        new_chronosomes.append(elite_member)\n",
    "        if crossover:\n",
    "            new_chronosomes.append(child)\n",
    "        else:\n",
    "            new_chronosomes.append(generateChronosome(number_of_genes))\n",
    "        if mutation:\n",
    "            new_chronosomes.append(mutated)\n",
    "        else:\n",
    "            new_chronosomes.append(generateChronosome(number_of_genes))\n",
    "        new_chronosomes.append(generateChronosome(number_of_genes))\n",
    "        chronosomes = new_chronosomes\n",
    "        fitness_values = countFitnessForChronosomes(elevator_floor, calls, chronosomes, BFT, LT, OT, CT)\n",
    "        fitness_values[0] = sv\n",
    "        all_fitness_winners.append(sv)\n",
    "    \n",
    "    elite_member, best_fitness = getWinner(fitness_values, chronosomes)\n",
    "    return elite_member, best_fitness, all_fitness_winners"
   ]
  },
  {
   "attachments": {},
   "cell_type": "markdown",
   "metadata": {},
   "source": [
    "general data"
   ]
  },
  {
   "cell_type": "code",
   "execution_count": 10,
   "metadata": {},
   "outputs": [],
   "source": [
    "# ELEVATOR\n",
    "OT = 2 #opening time\n",
    "CT = 2 #closing time\n",
    "PLT = 5 #passangers load time\n",
    "BFT = 5 #between floors\n",
    "LT = OT + CT + PLT  #load time\n",
    "elevator_start_floor = 4\n",
    "\n",
    "# BUILDING\n",
    "number_of_floors = 20"
   ]
  },
  {
   "attachments": {},
   "cell_type": "markdown",
   "metadata": {},
   "source": [
    "Case 1"
   ]
  },
  {
   "cell_type": "code",
   "execution_count": 11,
   "metadata": {},
   "outputs": [],
   "source": [
    "# DATA FOR GENETIC ALGORITM\n",
    "i_max = 100 # generations\n",
    "m = 4 # population size\n",
    "crossover_rate = 0.2 # 0.2 --- 80% \n",
    "mutation_rate = 0.8\n",
    "\n",
    "#CALLS #[from, to]\n",
    "calls_from_article = [[5,9], [6,7], [3,15], [11, 0], [20, 8], [10, 17], [13, 19], [1, 14], [16, 2], [18, 12]]\n",
    "number_of_genes = len(calls_from_article)\n",
    "\n",
    "# crossover types: \n",
    "# 1-order crossover \n",
    "# 2-position crossover \n",
    "# 3-order based crossover\n",
    "crossover_type = 3\n",
    "\n",
    "# mutation types: \n",
    "# 1-swap mutation \n",
    "# 2-inversion mutation \n",
    "# 3-insertion mutation \n",
    "# 4-exchange mutation\n",
    "mutation_type = 2"
   ]
  },
  {
   "cell_type": "code",
   "execution_count": 12,
   "metadata": {},
   "outputs": [
    {
     "name": "stdout",
     "output_type": "stream",
     "text": [
      "avg best in sec 126.49400000000003\n",
      "best in sec 115.2\n",
      "worst in sec 137.6\n"
     ]
    }
   ],
   "source": [
    "max_it = 100\n",
    "g_a_gens = 100\n",
    "avg_fitness, avg_wait, bests =  iterateOver(max_it, g_a_gens)\n",
    "\n",
    "print(\"avg best in sec\", avg_fitness)\n",
    "print(\"best in sec\", min(bests))\n",
    "print(\"worst in sec\", max(bests))"
   ]
  },
  {
   "cell_type": "code",
   "execution_count": 13,
   "metadata": {},
   "outputs": [
    {
     "name": "stdout",
     "output_type": "stream",
     "text": [
      "10\n",
      "20\n",
      "30\n",
      "40\n",
      "50\n",
      "60\n",
      "70\n",
      "80\n",
      "90\n",
      "100\n",
      "[138.83000000000004, 135.57200000000003, 132.17199999999994, 130.968, 129.01, 127.35799999999996, 127.15800000000002, 126.45, 126.31600000000002, 126.07799999999999]\n"
     ]
    }
   ],
   "source": [
    "max_it = 100\n",
    "min_g_a_gens = 10\n",
    "max_g_a_gens = 100\n",
    "step = 10\n",
    "\n",
    "f_n = []\n",
    "its = []\n",
    "\n",
    "for i in range(min_g_a_gens, max_g_a_gens + 1, step):\n",
    "    its.append(i)\n",
    "    avg_fitness, avg_wait, bests =  iterateOver(max_it, i)\n",
    "    f_n.append(avg_fitness)\n",
    "    print(i)\n",
    "print(f_n)"
   ]
  },
  {
   "cell_type": "code",
   "execution_count": 14,
   "metadata": {},
   "outputs": [
    {
     "data": {
      "image/png": "[encoded data removed]",
      "text/plain": [
       "<Figure size 640x480 with 1 Axes>"
      ]
     },
     "metadata": {},
     "output_type": "display_data"
    }
   ],
   "source": [
    "xpoints = np.array(list(range(min_g_a_gens, max_g_a_gens +1 , step)))\n",
    "ypoints = np.array(f_n)\n",
    "\n",
    "plt.xlabel(\"generációk\")\n",
    "plt.ylabel(\"átlag idő (mp)\")\n",
    "\n",
    "plt.plot(xpoints, ypoints)\n",
    "plt.show()"
   ]
  },
  {
   "cell_type": "code",
   "execution_count": 16,
   "metadata": {},
   "outputs": [
    {
     "name": "stdout",
     "output_type": "stream",
     "text": [
      "120.48000000000002\n"
     ]
    }
   ],
   "source": [
    "avg_fitness, avg_wait, bests = iterateOver(10, 1000)\n",
    "print(avg_fitness)"
   ]
  },
  {
   "cell_type": "code",
   "execution_count": 17,
   "metadata": {},
   "outputs": [
    {
     "name": "stdout",
     "output_type": "stream",
     "text": [
      "E 1 & $ 126.852 $ & $ 116.2 $ & $ 135.8 $ & $ 119.562 $ \\\\\n",
      "\\hline\n",
      "E 2 & $ 126.764 $ & $ 116.8 $ & $ 136.4 $ & $ 116.728 $ \\\\\n",
      "\\hline\n",
      "E 3 & $ 127.356 $ & $ 115.6 $ & $ 141.0 $ & $ 120.072 $ \\\\\n",
      "\\hline\n",
      "E 4 & $ 127.268 $ & $ 115.8 $ & $ 139.4 $ & $ 117.378 $ \\\\\n",
      "\\hline\n",
      "\n",
      "E 5 & $ 126.292 $ & $ 114.2 $ & $ 139.6 $ & $ 117.965 $ \\\\\n",
      "\\hline\n",
      "E 6 & $ 127.84 $ & $ 113.6 $ & $ 140.0 $ & $ 115.788 $ \\\\\n",
      "\\hline\n",
      "E 7 & $ 126.762 $ & $ 113.8 $ & $ 140.6 $ & $ 117.165 $ \\\\\n",
      "\\hline\n",
      "E 8 & $ 127.378 $ & $ 115.2 $ & $ 137.6 $ & $ 118.27 $ \\\\\n",
      "\\hline\n",
      "\n",
      "E 9 & $ 127.674 $ & $ 113.4 $ & $ 140.4 $ & $ 117.992 $ \\\\\n",
      "\\hline\n",
      "E 10 & $ 127.142 $ & $ 117.8 $ & $ 138.8 $ & $ 118.742 $ \\\\\n",
      "\\hline\n",
      "E 11 & $ 126.77 $ & $ 116.4 $ & $ 141.8 $ & $ 116.205 $ \\\\\n",
      "\\hline\n",
      "E 12 & $ 127.31 $ & $ 116.0 $ & $ 140.4 $ & $ 116.115 $ \\\\\n",
      "\\hline\n",
      "\n"
     ]
    }
   ],
   "source": [
    "calls = calls_from_article\n",
    "crossover_r = 0.8 # ha 0.9 akkor 10% esely van ra\n",
    "mutation_r = 0.2\n",
    "\n",
    "go_over_all_crossover_and_mutation_at_rates_with_data(crossover_r, mutation_r, calls, i_max)"
   ]
  },
  {
   "cell_type": "code",
   "execution_count": 18,
   "metadata": {},
   "outputs": [
    {
     "name": "stdout",
     "output_type": "stream",
     "text": [
      "121.2\n",
      "[7, 6, 3, 8, 4, 9, 5, 2, 1, 10]\n"
     ]
    }
   ],
   "source": [
    "i_max =  100\n",
    "solution, fitness, all_fitness_winners = geneticAlgorithm(\n",
    "    elevator_start_floor, m, BFT, LT, OT, CT, number_of_genes, calls_from_article, \n",
    "    i_max, crossover_rate, mutation_rate, crossover_type, mutation_type)\n",
    "print(fitness)\n",
    "print(solution)"
   ]
  },
  {
   "cell_type": "code",
   "execution_count": 21,
   "metadata": {},
   "outputs": [
    {
     "name": "stdout",
     "output_type": "stream",
     "text": [
      "wait times for each passanger [16, 43, 57, 66, 64, 86, 97, 90, 99, 124]\n",
      "avg wait times for the elevator to arrive in sec 74.2\n",
      "avg wait times for the elevator to arrive in in min 1.2366666666666668\n"
     ]
    }
   ],
   "source": [
    "############### wait time for a passanger\n",
    "\n",
    "wait_times = calculateWaitTimesForElevatorFromChronosome(elevator_start_floor, calls_from_article, solution, BFT, LT, OT)\n",
    "print(\"wait times for each passanger\", wait_times)\n",
    "print(\"avg wait times for the elevator to arrive in sec\", np.mean(wait_times))\n",
    "print(\"avg wait times for the elevator to arrive in in min\", np.mean(wait_times)/60)"
   ]
  },
  {
   "cell_type": "code",
   "execution_count": 77,
   "metadata": {},
   "outputs": [
    {
     "data": {
      "image/png": "[encoded data removed]",
      "text/plain": [
       "<Figure size 640x480 with 1 Axes>"
      ]
     },
     "metadata": {},
     "output_type": "display_data"
    }
   ],
   "source": [
    "#MINUTES\n",
    "fitness_winners_minutes = [a/60 for a in all_fitness_winners]\n",
    "\n",
    "xpoints = np.array(list(range(1, i_max+1)))\n",
    "ypoints = np.array(fitness_winners_minutes)\n",
    "\n",
    "plt.xlabel(\"generation\")\n",
    "plt.ylabel(\"avg journey time\")\n",
    "\n",
    "plt.plot(xpoints, ypoints)\n",
    "plt.show()"
   ]
  },
  {
   "cell_type": "code",
   "execution_count": 75,
   "metadata": {},
   "outputs": [
    {
     "data": {
      "image/png": "[encoded data removed]",
      "text/plain": [
       "<Figure size 640x480 with 1 Axes>"
      ]
     },
     "metadata": {},
     "output_type": "display_data"
    },
    {
     "data": {
      "text/plain": [
       "110.2"
      ]
     },
     "execution_count": 75,
     "metadata": {},
     "output_type": "execute_result"
    }
   ],
   "source": [
    "#SECONDS\n",
    "\n",
    "xpoints = np.array(list(range(1, i_max+1)))\n",
    "ypoints = np.array(all_fitness_winners)\n",
    "\n",
    "plt.xlabel(\"generáció\")\n",
    "plt.ylabel(\"átlag idő (mp)\")\n",
    "\n",
    "plt.plot(xpoints, ypoints)\n",
    "plt.show()\n",
    "\n",
    "min(all_fitness_winners)"
   ]
  },
  {
   "cell_type": "code",
   "execution_count": 76,
   "metadata": {},
   "outputs": [
    {
     "name": "stdout",
     "output_type": "stream",
     "text": [
      "best in sec 110.2\n",
      "best in min 1.8366666666666667\n"
     ]
    }
   ],
   "source": [
    "#print(all_fitness_winners[-100:])\n",
    "print(\"best in sec\", min(all_fitness_winners))\n",
    "print(\"best in min\", min(all_fitness_winners)/60)"
   ]
  },
  {
   "cell_type": "code",
   "execution_count": 141,
   "metadata": {},
   "outputs": [
    {
     "name": "stdout",
     "output_type": "stream",
     "text": [
      "avg best in sec 127.514\n",
      "best in sec 117.6\n",
      "worst in sec 139.8\n",
      "\n",
      "avg best in min 2.125233333333333\n",
      "best in min 1.96\n",
      "worst in min 2.33\n"
     ]
    }
   ],
   "source": [
    "max_it = 100\n",
    "sum_fit = 0\n",
    "\n",
    "bests = []\n",
    "for i in range(0, max_it):\n",
    "    solution, fitness, all_fitness_winners = geneticAlgorithm(\n",
    "        elevator_start_floor, m, BFT, LT, OT, CT, number_of_genes, calls_from_article, \n",
    "        i_max, crossover_rate, mutation_rate, crossover_type, mutation_type)\n",
    "    sum_fit += fitness\n",
    "    bests.append(fitness)\n",
    "    \n",
    "print(\"avg best in sec\", sum_fit/max_it)\n",
    "print(\"best in sec\", min(bests))\n",
    "print(\"worst in sec\", max(bests))\n",
    "print()\n",
    "print(\"avg best in min\", sum_fit/max_it/60)\n",
    "print(\"best in min\", min(bests)/60)\n",
    "print(\"worst in min\", max(bests)/60)"
   ]
  },
  {
   "attachments": {},
   "cell_type": "markdown",
   "metadata": {},
   "source": [
    "Case 2 - data from a day"
   ]
  },
  {
   "cell_type": "code",
   "execution_count": 52,
   "metadata": {},
   "outputs": [],
   "source": [
    "import pandas as pd\n",
    "mydata=pd.read_csv('file_name.csv')"
   ]
  },
  {
   "cell_type": "code",
   "execution_count": 53,
   "metadata": {},
   "outputs": [
    {
     "name": "stdout",
     "output_type": "stream",
     "text": [
      "egy napi hivas tomb merete 91\n",
      "[[0, 8], [0, 2], [0, 17], [0, 3], [0, 11], [0, 12], [0, 10], [2, 1], [0, 9], [2, 1], [0, 19], [9, 6], [0, 19], [2, 0], [0, 6], [0, 14], [10, 8], [0, 20], [19, 14], [0, 17], [0, 8], [19, 1], [0, 15], [0, 9], [0, 9], [16, 15], [11, 0], [0, 14], [0, 14], [0, 11], [0, 10], [0, 15], [19, 10], [16, 2], [0, 7], [19, 10], [0, 9], [0, 14], [16, 8], [0, 12], [0, 1], [0, 10], [0, 18], [2, 0], [0, 17], [2, 1], [16, 12], [0, 11], [11, 4], [2, 1], [11, 1], [0, 4], [2, 1], [4, 3], [0, 16], [9, 7], [12, 10], [2, 0], [0, 18], [2, 0], [2, 1], [16, 9], [16, 10], [0, 11], [0, 8], [18, 11], [0, 16], [2, 0], [0, 14], [12, 8], [0, 16], [9, 1], [8, 4], [7, 3], [0, 8], [0, 1], [0, 5], [10, 7], [12, 7], [0, 15], [0, 11], [14, 5], [0, 8], [10, 7], [10, 4], [10, 7], [0, 9], [0, 19], [10, 5], [2, 0]]\n"
     ]
    }
   ],
   "source": [
    "subdata = mydata.loc[(mydata['year'] == 2019) & (mydata['month'] == 1)  & (mydata['day'] == 1)]\n",
    "floors = array = subdata['floor'].to_numpy()\n",
    "destinations = array = subdata['destination'].to_numpy()\n",
    "calls = []\n",
    "size = len(floors)\n",
    "\n",
    "print (\"egy napi hivas tomb merete\", size)\n",
    "\n",
    "for i in range(0, size - 1):\n",
    "    calls.append([floors[i], destinations[i]])\n",
    "\n",
    "print(calls)"
   ]
  },
  {
   "cell_type": "code",
   "execution_count": 81,
   "metadata": {},
   "outputs": [
    {
     "name": "stdout",
     "output_type": "stream",
     "text": [
      "373.2\n"
     ]
    }
   ],
   "source": [
    "i_max = 100\n",
    "mutation_rate = 2\n",
    "mutation_type = 2\n",
    "solution, fitness, all_fitness_winners = geneticAlgorithm(\n",
    "    elevator_start_floor, m, BFT, LT, OT, CT, number_of_genes, calls, \n",
    "    i_max, crossover_rate, mutation_rate, crossover_type, mutation_type)\n",
    "print(fitness)"
   ]
  },
  {
   "cell_type": "code",
   "execution_count": 68,
   "metadata": {},
   "outputs": [
    {
     "name": "stdout",
     "output_type": "stream",
     "text": [
      "wait times for each passanger [13, 38, 46, 56, 65, 88, 86, 99, 102, 138]\n",
      "avg wait times for the elevator to arrive in sec 73.1\n",
      "avg wait times for the elevator to arrive in in min 1.2183333333333333\n"
     ]
    }
   ],
   "source": [
    "############### wait time for a passanger\n",
    "\n",
    "wait_times = calculateWaitTimesForElevatorFromChronosome(elevator_start_floor, calls_from_article, solution, BFT, LT, OT)\n",
    "print(\"wait times for each passanger\", wait_times)\n",
    "print(\"avg wait times for the elevator to arrive in sec\", np.mean(wait_times))\n",
    "print(\"avg wait times for the elevator to arrive in in min\", np.mean(wait_times)/60)"
   ]
  },
  {
   "cell_type": "code",
   "execution_count": null,
   "metadata": {},
   "outputs": [],
   "source": [
    "#MINUTES\n",
    "fitness_winners_minutes = [a/60 for a in all_fitness_winners]\n",
    "\n",
    "xpoints = np.array(list(range(1, i_max+1)))\n",
    "ypoints = np.array(fitness_winners_minutes)\n",
    "\n",
    "plt.xlabel(\"generation\")\n",
    "plt.ylabel(\"avg journey time\")\n",
    "\n",
    "plt.plot(xpoints, ypoints)\n",
    "plt.show()"
   ]
  },
  {
   "cell_type": "code",
   "execution_count": 154,
   "metadata": {},
   "outputs": [
    {
     "data": {
      "text/plain": [
       "110.2"
      ]
     },
     "execution_count": 154,
     "metadata": {},
     "output_type": "execute_result"
    }
   ],
   "source": [
    "min(all_fitness_winners)"
   ]
  },
  {
   "cell_type": "code",
   "execution_count": 70,
   "metadata": {},
   "outputs": [
    {
     "data": {
      "image/png": "[encoded data removed]",
      "text/plain": [
       "<Figure size 640x480 with 1 Axes>"
      ]
     },
     "metadata": {},
     "output_type": "display_data"
    },
    {
     "data": {
      "text/plain": [
       "306.2"
      ]
     },
     "execution_count": 70,
     "metadata": {},
     "output_type": "execute_result"
    }
   ],
   "source": [
    "#SECONDS\n",
    "\n",
    "xpoints = np.array(list(range(1, i_max+1)))\n",
    "ypoints = np.array(all_fitness_winners)\n",
    "\n",
    "plt.xlabel(\"generation\")\n",
    "plt.ylabel(\"avg wait time\")\n",
    "\n",
    "plt.plot(xpoints, ypoints)\n",
    "plt.show()\n",
    "\n",
    "min(all_fitness_winners)"
   ]
  },
  {
   "cell_type": "code",
   "execution_count": 58,
   "metadata": {},
   "outputs": [
    {
     "name": "stdout",
     "output_type": "stream",
     "text": [
      "best in sec 113.2\n",
      "best in min 1.8866666666666667\n"
     ]
    }
   ],
   "source": [
    "#print(all_fitness_winners[-100:])\n",
    "print(\"best in sec\", min(all_fitness_winners))\n",
    "print(\"best in min\", min(all_fitness_winners)/60)"
   ]
  },
  {
   "cell_type": "code",
   "execution_count": null,
   "metadata": {},
   "outputs": [],
   "source": [
    "max_it = 100\n",
    "sum_fit = 0\n",
    "for i in range(0, max_it):\n",
    "    solution, fitness, all_fitness_winners = geneticAlgorithm(\n",
    "        elevator_start_floor, m, BFT, LT, OT, CT, number_of_genes, calls_from_article, \n",
    "        i_max, crossover_rate, mutation_rate, crossover_type, mutation_type)\n",
    "    sum_fit += fitness\n",
    "print(\"avg best in sec\", sum_fit/max_it)\n",
    "print(\"avg best in min\", sum_fit/max_it/60)"
   ]
  },
  {
   "cell_type": "code",
   "execution_count": null,
   "metadata": {},
   "outputs": [
    {
     "name": "stdout",
     "output_type": "stream",
     "text": [
      "avg best in sec 125.23600000000008\n",
      "avg best in min 2.0872666666666677\n"
     ]
    }
   ],
   "source": [
    "max_it = 100\n",
    "sum_fit = 0\n",
    "\n",
    "crossover_type = 2\n",
    "mutation_type = 2\n",
    "\n",
    "for i in range(0, max_it):\n",
    "    solution, fitness, all_fitness_winners = geneticAlgorithm(\n",
    "        elevator_start_floor, m, BFT, LT, OT, CT, number_of_genes, calls_from_article, \n",
    "        i_max, crossover_rate, mutation_rate, crossover_type, mutation_type)\n",
    "    sum_fit += fitness\n",
    "print(\"avg best in sec\", sum_fit/max_it)\n",
    "print(\"avg best in min\", sum_fit/max_it/60)"
   ]
  },
  {
   "cell_type": "code",
   "execution_count": 26,
   "metadata": {},
   "outputs": [
    {
     "data": {
      "text/plain": [
       "[[5, 0],\n",
       " [6, 0],\n",
       " [3, 0],\n",
       " [11, 0],\n",
       " [20, 0],\n",
       " [10, 0],\n",
       " [13, 0],\n",
       " [1, 0],\n",
       " [16, 0],\n",
       " [18, 0]]"
      ]
     },
     "execution_count": 26,
     "metadata": {},
     "output_type": "execute_result"
    }
   ],
   "source": [
    "calls"
   ]
  },
  {
   "cell_type": "code",
   "execution_count": 25,
   "metadata": {},
   "outputs": [
    {
     "name": "stdout",
     "output_type": "stream",
     "text": [
      "E 1 & $ 102.3 $ & $ 102.3 $ & $ 102.3 $ & $ 9.567 $ \\\\\n",
      "\\hline\n",
      "E 2 & $ 102.3 $ & $ 102.3 $ & $ 102.3 $ & $ 9.583 $ \\\\\n",
      "\\hline\n",
      "E 3 & $ 102.3 $ & $ 102.3 $ & $ 102.3 $ & $ 9.573 $ \\\\\n",
      "\\hline\n",
      "E 4 & $ 102.3 $ & $ 102.3 $ & $ 102.3 $ & $ 9.573 $ \\\\\n",
      "\\hline\n",
      "\n",
      "E 5 & $ 102.3 $ & $ 102.3 $ & $ 102.3 $ & $ 9.577 $ \\\\\n",
      "\\hline\n",
      "E 6 & $ 102.3 $ & $ 102.3 $ & $ 102.3 $ & $ 9.61 $ \\\\\n",
      "\\hline\n",
      "E 7 & $ 102.3 $ & $ 102.3 $ & $ 102.3 $ & $ 9.577 $ \\\\\n",
      "\\hline\n",
      "E 8 & $ 102.3 $ & $ 102.3 $ & $ 102.3 $ & $ 9.577 $ \\\\\n",
      "\\hline\n",
      "\n",
      "E 9 & $ 102.3 $ & $ 102.3 $ & $ 102.3 $ & $ 9.58 $ \\\\\n",
      "\\hline\n",
      "E 10 & $ 102.3 $ & $ 102.3 $ & $ 102.3 $ & $ 9.593 $ \\\\\n",
      "\\hline\n",
      "E 11 & $ 102.3 $ & $ 102.3 $ & $ 102.3 $ & $ 9.59 $ \\\\\n",
      "\\hline\n",
      "E 12 & $ 102.3 $ & $ 102.3 $ & $ 102.3 $ & $ 9.577 $ \\\\\n",
      "\\hline\n",
      "\n"
     ]
    }
   ],
   "source": [
    "calls\n",
    "crossover_r = 0.2\n",
    "mutation_r = 0.8\n",
    "maxi = 10\n",
    "\n",
    "go_over_all_crossover_and_mutation_at_rates_with_data(crossover_r, mutation_r, calls, maxi)"
   ]
  },
  {
   "attachments": {},
   "cell_type": "markdown",
   "metadata": {},
   "source": [
    "case 3 - downpeak"
   ]
  },
  {
   "cell_type": "code",
   "execution_count": 222,
   "metadata": {},
   "outputs": [],
   "source": [
    "i_max = 100 # generations\n",
    "m = 4 # population size\n",
    "crossover_rate = 0.2\n",
    "mutation_rate = 0.8\n",
    "\n",
    "#CALLS #[from, to]\n",
    "calls_from_article = [[5,0], [6,0], [3,0], [11, 0], [20, 0], [10, 0], [13, 0], [1, 0], [16, 10], [1, 0]]\n",
    "number_of_genes = len(calls_from_article)\n",
    "\n",
    "# crossover types: \n",
    "# 1-order crossover \n",
    "# 2-position crossover \n",
    "# 3-order based crossover\n",
    "crossover_type = 1\n",
    "\n",
    "# mutation types: \n",
    "# 1-swap mutation \n",
    "# 2-inversion mutation \n",
    "# 3-insertion mutation \n",
    "# 4-exchange mutation\n",
    "mutation_type = 1"
   ]
  },
  {
   "cell_type": "code",
   "execution_count": 223,
   "metadata": {},
   "outputs": [
    {
     "name": "stdout",
     "output_type": "stream",
     "text": [
      "E 1 & $ 104.13 $ & $ 103.6 $ & $ 105.4 $ & $ 92.05 $ \\\\\n",
      "\\hline\n",
      "E 2 & $ 104.1 $ & $ 103.6 $ & $ 105.4 $ & $ 92.0 $ \\\\\n",
      "\\hline\n",
      "E 3 & $ 103.976 $ & $ 103.6 $ & $ 105.4 $ & $ 91.793 $ \\\\\n",
      "\\hline\n",
      "E 4 & $ 104.102 $ & $ 103.6 $ & $ 105.4 $ & $ 92.003 $ \\\\\n",
      "\\hline\n",
      "\n",
      "E 5 & $ 104.022 $ & $ 103.6 $ & $ 105.4 $ & $ 91.87 $ \\\\\n",
      "\\hline\n",
      "E 6 & $ 104.268 $ & $ 103.6 $ & $ 105.4 $ & $ 92.28 $ \\\\\n",
      "\\hline\n",
      "E 7 & $ 104.082 $ & $ 103.6 $ & $ 105.4 $ & $ 91.97 $ \\\\\n",
      "\\hline\n",
      "E 8 & $ 104.064 $ & $ 103.6 $ & $ 105.4 $ & $ 91.94 $ \\\\\n",
      "\\hline\n",
      "\n",
      "E 9 & $ 103.994 $ & $ 103.6 $ & $ 105.4 $ & $ 91.823 $ \\\\\n",
      "\\hline\n",
      "E 10 & $ 104.14 $ & $ 103.6 $ & $ 105.4 $ & $ 92.067 $ \\\\\n",
      "\\hline\n",
      "E 11 & $ 104.154 $ & $ 103.6 $ & $ 105.4 $ & $ 92.09 $ \\\\\n",
      "\\hline\n",
      "E 12 & $ 104.02 $ & $ 103.6 $ & $ 105.4 $ & $ 91.867 $ \\\\\n",
      "\\hline\n",
      "\n"
     ]
    }
   ],
   "source": [
    "calls = calls_from_article\n",
    "crossover_r = 0.8\n",
    "mutation_r = 0.2\n",
    "\n",
    "go_over_all_crossover_and_mutation_at_rates_with_data(crossover_r, mutation_r, calls, i_max)"
   ]
  },
  {
   "cell_type": "code",
   "execution_count": 19,
   "metadata": {},
   "outputs": [
    {
     "name": "stdout",
     "output_type": "stream",
     "text": [
      "102.3\n"
     ]
    }
   ],
   "source": [
    "i_max =  100\n",
    "solution, fitness, all_fitness_winners = geneticAlgorithm(\n",
    "    elevator_start_floor, m, BFT, LT, OT, CT, number_of_genes, calls_from_article, \n",
    "    i_max, crossover_rate, mutation_rate, crossover_type, mutation_type)\n",
    "print(fitness)"
   ]
  },
  {
   "cell_type": "code",
   "execution_count": 20,
   "metadata": {},
   "outputs": [
    {
     "name": "stdout",
     "output_type": "stream",
     "text": [
      "wait times for each passanger [23, 32, 28, 47, 49, 53, 66, 81, 89, 106]\n",
      "avg wait times for the elevator to arrive in sec 57.4\n",
      "avg wait times for the elevator to arrive in in min 0.9566666666666667\n"
     ]
    }
   ],
   "source": [
    "############### wait time for a passanger\n",
    "\n",
    "wait_times = calculateWaitTimesForElevatorFromChronosome(elevator_start_floor, calls_from_article, solution, BFT, LT, OT)\n",
    "print(\"wait times for each passanger\", wait_times)\n",
    "print(\"avg wait times for the elevator to arrive in sec\", np.mean(wait_times))\n",
    "print(\"avg wait times for the elevator to arrive in in min\", np.mean(wait_times)/60)"
   ]
  },
  {
   "cell_type": "code",
   "execution_count": 21,
   "metadata": {},
   "outputs": [
    {
     "data": {
      "image/png": "[encoded data removed]",
      "text/plain": [
       "<Figure size 640x480 with 1 Axes>"
      ]
     },
     "metadata": {},
     "output_type": "display_data"
    },
    {
     "data": {
      "text/plain": [
       "102.3"
      ]
     },
     "execution_count": 21,
     "metadata": {},
     "output_type": "execute_result"
    }
   ],
   "source": [
    "#SECONDS\n",
    "\n",
    "xpoints = np.array(list(range(1, i_max+1)))\n",
    "ypoints = np.array(all_fitness_winners)\n",
    "\n",
    "plt.xlabel(\"generáció\")\n",
    "plt.ylabel(\"átlag idő (mp)\")\n",
    "\n",
    "plt.plot(xpoints, ypoints)\n",
    "plt.show()\n",
    "\n",
    "min(all_fitness_winners)"
   ]
  },
  {
   "cell_type": "code",
   "execution_count": 22,
   "metadata": {},
   "outputs": [
    {
     "name": "stdout",
     "output_type": "stream",
     "text": [
      "best in sec 102.3\n",
      "best in min 1.7049999999999998\n"
     ]
    }
   ],
   "source": [
    "#print(all_fitness_winners[-100:])\n",
    "print(\"best in sec\", min(all_fitness_winners))\n",
    "print(\"best in min\", min(all_fitness_winners)/60)"
   ]
  },
  {
   "cell_type": "code",
   "execution_count": 23,
   "metadata": {},
   "outputs": [
    {
     "name": "stdout",
     "output_type": "stream",
     "text": [
      "avg best in sec 102.29999999999997\n",
      "best in sec 102.3\n",
      "worst in sec 102.3\n",
      "\n",
      "avg best in min 1.7049999999999994\n",
      "best in min 1.7049999999999998\n",
      "worst in min 1.7049999999999998\n"
     ]
    }
   ],
   "source": [
    "max_it = 100\n",
    "sum_fit = 0\n",
    "\n",
    "bests = []\n",
    "for i in range(0, max_it):\n",
    "    solution, fitness, all_fitness_winners = geneticAlgorithm(\n",
    "        elevator_start_floor, m, BFT, LT, OT, CT, number_of_genes, calls_from_article, \n",
    "        i_max, crossover_rate, mutation_rate, crossover_type, mutation_type)\n",
    "    sum_fit += fitness\n",
    "    bests.append(fitness)\n",
    "    \n",
    "print(\"avg best in sec\", sum_fit/max_it)\n",
    "print(\"best in sec\", min(bests))\n",
    "print(\"worst in sec\", max(bests))\n",
    "print()\n",
    "print(\"avg best in min\", sum_fit/max_it/60)\n",
    "print(\"best in min\", min(bests)/60)\n",
    "print(\"worst in min\", max(bests)/60)"
   ]
  },
  {
   "cell_type": "code",
   "execution_count": null,
   "metadata": {},
   "outputs": [],
   "source": []
  }
 ],
 "metadata": {
  "kernelspec": {
   "display_name": "new",
   "language": "python",
   "name": "python3"
  },
  "language_info": {
   "codemirror_mode": {
    "name": "ipython",
    "version": 3
   },
   "file_extension": ".py",
   "mimetype": "text/x-python",
   "name": "python",
   "nbconvert_exporter": "python",
   "pygments_lexer": "ipython3",
   "version": "3.10.11"
  },
  "orig_nbformat": 4
 },
 "nbformat": 4,
 "nbformat_minor": 2
}
