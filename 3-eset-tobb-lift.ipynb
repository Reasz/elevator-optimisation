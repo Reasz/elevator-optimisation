{
 "cells": [
  {
   "cell_type": "code",
   "execution_count": 2,
   "metadata": {},
   "outputs": [],
   "source": [
    "import random\n",
    "import numpy as np\n",
    "import matplotlib.pyplot as plt"
   ]
  },
  {
   "attachments": {},
   "cell_type": "markdown",
   "metadata": {},
   "source": [
    "functions for the genetic algorithm"
   ]
  },
  {
   "cell_type": "code",
   "execution_count": 3,
   "metadata": {},
   "outputs": [],
   "source": [
    "# generating a set of feasible solutions / cronosomes\n",
    "# every gene is a level where there is a call, the elements are the order in wich they are answered\n",
    "def generateChronosome(size, number_of_elevators):\n",
    "    chronosome = []\n",
    "    for i in range(0,size):\n",
    "        gene = random.randint(1,number_of_elevators)\n",
    "        chronosome.append(gene)\n",
    "    return chronosome\n",
    "\n",
    "def generateChronosomes(size, population_size, number_of_elevators):\n",
    "    chronosomes = []\n",
    "    for i in range(0, population_size):\n",
    "        chronosome = generateChronosome(size, number_of_elevators)\n",
    "        chronosomes.append(chronosome)\n",
    "    return chronosomes\n",
    "\n",
    "# fitness\n",
    "def countFitness(FN, CN, DF, CB, CA, DB, BFT, LT, OT, CT):\n",
    "    N1 = abs(FN - CN) # N1 - number of floor between passanger and elevator\n",
    "    N2 = abs(FN - DF) # N2 - number of floors between passanger and elevator\n",
    "    WT = BFT + N1 + LT * CB + LT * DB + OT # waiting time of a passanger\n",
    "    DT = CT + LT * CA + BFT * N2 + LT * DB + OT # destination time of a passanger\n",
    "    JT = DT + WT # journey time, the obj of the EDP\n",
    "    return JT\n",
    "\n",
    "# count fitness for every chronosome\n",
    "def countFitnessForChronosomes(elevator_floors, calls, chronosomes, BFT, LT, OT, CT):\n",
    "    fitness_values = []\n",
    "    n = len(chronosomes[0])\n",
    "    FN = elevator_floors[:]\n",
    "    number_of_elevators = len(elevator_floors)\n",
    "    for chronosome in chronosomes:\n",
    "        fitness = 0\n",
    "        CB = [0] * number_of_elevators # CB - number of calls made before current passanger\n",
    "        DB = [0] * number_of_elevators # DB - number of drops offs before current passanger\n",
    "        for i in range(0, n):\n",
    "            CN = calls[i][0] # CN - call floor number\n",
    "            DF = calls[i][1] # DF - destination floor number\n",
    "            CA = n - i - 1 # CA - number of calls made after the current passanger\n",
    "            fitness += countFitness(FN[chronosome[i]-1], CN, DF, CB[chronosome[i]-1], CA, DB[chronosome[i]-1], BFT, LT, OT, CT)\n",
    "            CB[chronosome[i]-1] += 1\n",
    "            for j in range(i, len(calls)):\n",
    "                if FN[chronosome[i]-1] < calls[j][1] < DF:\n",
    "                    DB[chronosome[i]-1] += 1\n",
    "            FN[chronosome[i]-1] = calls[i][1]\n",
    "        fitness_values.append(fitness / n)\n",
    "    return fitness_values\n",
    "\n",
    "# helper\n",
    "\n",
    "def getWinner(fitness_values, chronosomes):\n",
    "    sorted_indexes = np.argsort(fitness_values).tolist()\n",
    "    elite_member = chronosomes[sorted_indexes[0]]\n",
    "    best_fitness = fitness_values[sorted_indexes[0]]\n",
    "    return elite_member, best_fitness"
   ]
  },
  {
   "attachments": {},
   "cell_type": "markdown",
   "metadata": {},
   "source": [
    "crossover variants"
   ]
  },
  {
   "cell_type": "code",
   "execution_count": 4,
   "metadata": {},
   "outputs": [],
   "source": [
    "def random_crossover(parent1, parent2):\n",
    "    child1 = parent2[:]\n",
    "    child2 = parent1[:]\n",
    "    number_of_genes = len(parent1)\n",
    "    number_of_genes_to_swap = random.randint(1, number_of_genes - 1)\n",
    "    positions_to_swap = random.sample(range(number_of_genes), number_of_genes_to_swap)\n",
    "    for i in positions_to_swap:\n",
    "        child1[i] = parent1[i]\n",
    "        child2[i] = parent2[i]\n",
    "    return child1, child2\n"
   ]
  },
  {
   "attachments": {},
   "cell_type": "markdown",
   "metadata": {},
   "source": [
    "mutation variants"
   ]
  },
  {
   "cell_type": "code",
   "execution_count": 5,
   "metadata": {},
   "outputs": [],
   "source": [
    "def swapMutation(number_of_genes, mutant_member):\n",
    "    a = random.randint(0, number_of_genes - 1)\n",
    "    b = random.randint(0, number_of_genes - 1)\n",
    "    gene = mutant_member[a]\n",
    "    mutant_member[a] = mutant_member[b]\n",
    "    mutant_member[b] = gene\n",
    "    return mutant_member\n",
    "\n",
    "def inversion_mutation(mutant_member):\n",
    "    number_of_genes = len(mutant_member)\n",
    "    a = random.randint(1,number_of_genes - 1)\n",
    "    b = random.randint(1,number_of_genes - 1)\n",
    "    start = min(a, b)\n",
    "    stop = max(a, b)\n",
    "    start = 2\n",
    "    stop = 5\n",
    "    cc = mutant_member[:]\n",
    "    pos = stop\n",
    "    for i in range(start, stop+1):\n",
    "        mutant_member[i] = cc[pos]\n",
    "        pos -= 1\n",
    "    return mutant_member\n",
    "\n",
    "def insertion_mutation(mutant_member):\n",
    "    number_of_genes = len(mutant_member)\n",
    "    positions = random.sample(range(number_of_genes), 2)\n",
    "    pos1 = positions[0]\n",
    "    pos2 = positions[1]\n",
    "    first_half = mutant_member[:pos2]\n",
    "    second_half = mutant_member[pos2:]\n",
    "    if (first_half.count(mutant_member[pos1])):\n",
    "        first_half.remove(mutant_member[pos1])\n",
    "    elif (second_half.count(mutant_member[pos1])):\n",
    "        second_half.remove(mutant_member[pos1])\n",
    "    first_half.append(mutant_member[pos1])\n",
    "    mutant_member = first_half + second_half\n",
    "    return mutant_member\n",
    "\n",
    "def exchange_mutation(mutant_member):\n",
    "    number_of_genes = len(mutant_member)\n",
    "    positions = random.sample(range(number_of_genes), 2)\n",
    "    a = mutant_member[positions[0]]\n",
    "    mutant_member[positions[0]] = mutant_member[positions[1]]\n",
    "    mutant_member[positions[1]] = a\n",
    "    return mutant_member"
   ]
  },
  {
   "attachments": {},
   "cell_type": "markdown",
   "metadata": {},
   "source": [
    "functions for the measurements"
   ]
  },
  {
   "cell_type": "code",
   "execution_count": 6,
   "metadata": {},
   "outputs": [],
   "source": [
    "# wait time for a passenger to the elevator\n",
    "def countPassangerWaitTimeForElevator(FN, CN, CB, DB, BFT, LT, OT):\n",
    "    N1 = abs(FN - CN) # N1 - number of floor between passanger and elevator\n",
    "    WT = BFT + N1 + LT * CB + LT * DB + OT # waiting time of a passanger\n",
    "    return WT\n",
    "\n",
    "# wait times for passangers, calculated from the solution\n",
    "def calculateWaitTimesForElevatorFromChronosome(number_of_elevators, elevator_floors, calls_from_article, solution, BFT, LT, OT):\n",
    "    FN = elevator_floors[:]\n",
    "    calls = calls_from_article\n",
    "    wait_times = []\n",
    "    DB = [0] * number_of_elevators\n",
    "    CB = [0] * number_of_elevators\n",
    "    for i in range(0, len(solution)):\n",
    "        CN = calls[i][0]\n",
    "        DF = calls[i][1]\n",
    "        WT = countPassangerWaitTimeForElevator(FN[solution[i]-1], CN, CB[solution[i]-1], DB[solution[i]-1], BFT, LT, OT)\n",
    "        CB[solution[i]-1] += 1\n",
    "        for j in range(i, len(calls)):\n",
    "            if FN[solution[i]-1] < calls[j][1] < DF:\n",
    "                DB[solution[i]-1] += 1\n",
    "        FN[solution[i]-1] = calls[i][1]\n",
    "        wait_times.append(WT)\n",
    "    return wait_times"
   ]
  },
  {
   "attachments": {},
   "cell_type": "markdown",
   "metadata": {},
   "source": [
    "genetic algoritm"
   ]
  },
  {
   "cell_type": "code",
   "execution_count": 7,
   "metadata": {},
   "outputs": [],
   "source": [
    "def geneticAlgorithm(\n",
    "        number_of_elevators, elevator_floors, \n",
    "        m, BFT, LT, OT, CT, number_of_genes, calls, i_max, \n",
    "        crossover_rate, mutation_rate, crossover_type, mutation_type):\n",
    "    \n",
    "    chronosomes = generateChronosomes(number_of_genes, m, number_of_elevators)\n",
    "\n",
    "    fitness_values = countFitnessForChronosomes(elevator_floors, calls, chronosomes, BFT, LT, OT, CT)\n",
    "    \n",
    "    all_fitness_winners = []\n",
    "    \n",
    "    for i in range (0, i_max):\n",
    "        \n",
    "        # categorisation by fitness values : elite, cross-over, mutant\n",
    "        sorted_indexes = np.argsort(fitness_values).tolist()\n",
    "        elite_member = chronosomes[sorted_indexes[0]]\n",
    "        crossover_member_1 = chronosomes[sorted_indexes[1]]\n",
    "        crossover_member_2 = chronosomes[sorted_indexes[2]]\n",
    "        mutant_member = chronosomes[sorted_indexes[3]]\n",
    "\n",
    "        sv = fitness_values[sorted_indexes[0]]\n",
    "\n",
    "        # cross-over operations\n",
    "        crossover = False\n",
    "        if random.uniform(0, 1) > crossover_rate:\n",
    "            crossover = True\n",
    "            match crossover_type:\n",
    "                case 1:\n",
    "                    child1, child2 = random_crossover(crossover_member_1, crossover_member_2)\n",
    "                \n",
    "        # mutation operations -- swap mutation -- select two pos at random and swap them\n",
    "        mutation = False\n",
    "        if random.uniform(0, 1) > mutation_rate:\n",
    "            mutation = True\n",
    "            match mutation_type:\n",
    "                case 1:\n",
    "                    mutated = swapMutation(number_of_genes, mutant_member)\n",
    "                case 2: \n",
    "                    mutated = inversion_mutation(mutant_member)\n",
    "                case 3:\n",
    "                    mutated = insertion_mutation(mutant_member)\n",
    "                case 4:\n",
    "                    mutated = exchange_mutation(mutant_member)\n",
    "\n",
    "        # compute fitness values again after the operations\n",
    "        new_chronosomes = []\n",
    "        new_chronosomes.append(elite_member)\n",
    "        if crossover:\n",
    "            new_chronosomes.append(child1)\n",
    "            new_chronosomes.append(child2)\n",
    "        else:\n",
    "            new_chronosomes.append(generateChronosome(number_of_genes, number_of_elevators))\n",
    "            new_chronosomes.append(generateChronosome(number_of_genes, number_of_elevators))\n",
    "        if mutation:\n",
    "            new_chronosomes.append(mutated)\n",
    "        else:\n",
    "            new_chronosomes.append(generateChronosome(number_of_genes, number_of_elevators))\n",
    "        \n",
    "        chronosomes = new_chronosomes\n",
    "        fitness_values = countFitnessForChronosomes(elevator_floors, calls, chronosomes, BFT, LT, OT, CT)\n",
    "        fitness_values[0] = sv\n",
    "        all_fitness_winners.append(sv)\n",
    "    \n",
    "    elite_member, best_fitness = getWinner(fitness_values, chronosomes)\n",
    "    return elite_member, best_fitness, all_fitness_winners"
   ]
  },
  {
   "attachments": {},
   "cell_type": "markdown",
   "metadata": {},
   "source": [
    "general data"
   ]
  },
  {
   "cell_type": "code",
   "execution_count": 8,
   "metadata": {},
   "outputs": [],
   "source": [
    "# ELEVATOR\n",
    "OT = 2 #opening time\n",
    "CT = 2 #closing time\n",
    "PLT = 5 #passangers load time\n",
    "BFT = 5 #between floors\n",
    "LT = OT + CT + PLT  #load time\n",
    "\n",
    "number_of_elevators = 4\n",
    "elevator_floors = [4, 3, 10, 15]\n",
    "\n",
    "# EPULET ADATAI\n",
    "number_of_floors = 20"
   ]
  },
  {
   "attachments": {},
   "cell_type": "markdown",
   "metadata": {},
   "source": [
    "CASE 1"
   ]
  },
  {
   "cell_type": "code",
   "execution_count": 9,
   "metadata": {},
   "outputs": [],
   "source": [
    "# DATA FOR GENETIC ALGORITM\n",
    "i_max = 100 # generations\n",
    "m = 4 # population size\n",
    "crossover_rate = 0.7 # 0.7 --- 30% \n",
    "mutation_rate = 0.7\n",
    "\n",
    "#CALLS #[from, to]\n",
    "calls_from_article = [[5,9], [6,7], [3,15], [11, 0], [20, 8], [10, 17], [13, 19], [1, 14], [16, 2], [18, 12]]\n",
    "number_of_genes = len(calls_from_article)\n",
    "\n",
    "calls_from_article2 = [[7,1], [9,16], [11,2], [12,20], [13,6], [15,9]]\n",
    "number_of_genes2 = len(calls_from_article2)\n",
    "# 20 floor, 4 elevator :\n",
    "#popsize 50, max number of gen 100, crossover probability 0.7, mutation probability 0.01\n",
    "\n",
    "# crossover types: \n",
    "# 1random crossover\n",
    "crossover_type = 1\n",
    "\n",
    "# mutation types: \n",
    "# 1-swap mutation \n",
    "# 2-inversion mutation \n",
    "# 3-insertion mutation \n",
    "# 4-exchange mutation\n",
    "mutation_type = 3"
   ]
  },
  {
   "cell_type": "code",
   "execution_count": 15,
   "metadata": {},
   "outputs": [
    {
     "name": "stdout",
     "output_type": "stream",
     "text": [
      "88.3\n"
     ]
    }
   ],
   "source": [
    "solution, fitness, all_fitness_winners = geneticAlgorithm(\n",
    "    number_of_elevators, elevator_floors,\n",
    "    m, BFT, LT, OT, CT, number_of_genes, calls_from_article, \n",
    "    i_max, crossover_rate, mutation_rate, crossover_type, mutation_type)\n",
    "print(fitness)"
   ]
  },
  {
   "attachments": {},
   "cell_type": "markdown",
   "metadata": {},
   "source": [
    "all crossovers and mutations"
   ]
  },
  {
   "cell_type": "code",
   "execution_count": 16,
   "metadata": {},
   "outputs": [],
   "source": [
    "def iterateOverExtra(max_it,crossover, mutation, crossover_rate, mutation_rate, calls):\n",
    "    sum_fit = 0\n",
    "    waits = 0\n",
    "    bests = []\n",
    "    for i in range(0, max_it):\n",
    "        solution, fitness, all_fitness_winners = geneticAlgorithm(\n",
    "                number_of_elevators, elevator_floors,\n",
    "                m, BFT, LT, OT, CT, number_of_genes, calls_from_article, \n",
    "                i_max, crossover_rate, mutation_rate, crossover_type, mutation_type)\n",
    "        sum_fit += fitness\n",
    "\n",
    "        wait_times = calculateWaitTimesForElevatorFromChronosome(number_of_elevators, elevator_floors, calls_from_article, solution, BFT, LT, OT)\n",
    "        wait = np.mean(wait_times)\n",
    "        waits += wait\n",
    "        bests.append(fitness)\n",
    "    avg_fitness = sum_fit / max_it\n",
    "    avg_wait = waits / 60\n",
    "    return avg_fitness, avg_wait, bests\n",
    "\n",
    "\n",
    "def go_over_all_crossover_and_mutation_at_rates_with_data(crossover_r, mutation_r, calls, maxi):\n",
    "    mutations = [1,2,3,4]\n",
    "    max_it = maxi\n",
    "    x = 1\n",
    "    for mutation in mutations:\n",
    "        avg_fitness, avg_wait, bests =  iterateOverExtra(max_it, 1, mutation, crossover_r, mutation_r, calls)\n",
    "        print(\"E\", x, \"& $\", round(avg_fitness, 3), \"$ & $\", min(bests), \"$ & $\", max(bests), \"$ & $\", round(avg_wait, 3), '$ \\\\\\\\')\n",
    "        print(\"\\hline\")\n",
    "        x += 1\n",
    "    print()"
   ]
  },
  {
   "cell_type": "code",
   "execution_count": 17,
   "metadata": {},
   "outputs": [
    {
     "data": {
      "text/plain": [
       "[[5, 9],\n",
       " [6, 7],\n",
       " [3, 15],\n",
       " [11, 0],\n",
       " [20, 8],\n",
       " [10, 17],\n",
       " [13, 19],\n",
       " [1, 14],\n",
       " [16, 2],\n",
       " [18, 12]]"
      ]
     },
     "execution_count": 17,
     "metadata": {},
     "output_type": "execute_result"
    }
   ],
   "source": [
    "calls_from_article"
   ]
  },
  {
   "cell_type": "code",
   "execution_count": 50,
   "metadata": {},
   "outputs": [
    {
     "name": "stdout",
     "output_type": "stream",
     "text": [
      "E 1 & $ 88.777 $ & $ 79.3 $ & $ 94.7 $ & $ 47.905 $ \\\\\n",
      "\\hline\n",
      "E 2 & $ 88.873 $ & $ 79.3 $ & $ 94.9 $ & $ 48.233 $ \\\\\n",
      "\\hline\n",
      "E 3 & $ 88.413 $ & $ 81.5 $ & $ 95.3 $ & $ 46.98 $ \\\\\n",
      "\\hline\n",
      "E 4 & $ 88.443 $ & $ 77.5 $ & $ 94.1 $ & $ 46.773 $ \\\\\n",
      "\\hline\n",
      "\n"
     ]
    }
   ],
   "source": [
    "crossover_r = 0.2\n",
    "mutation_r = 0.8\n",
    "maxi = 100\n",
    "calls = calls_from_article\n",
    "go_over_all_crossover_and_mutation_at_rates_with_data(crossover_r, mutation_r, calls, maxi)"
   ]
  },
  {
   "cell_type": "code",
   "execution_count": 59,
   "metadata": {},
   "outputs": [
    {
     "data": {
      "image/png": "[encoded data removed]",
      "text/plain": [
       "<Figure size 640x480 with 1 Axes>"
      ]
     },
     "metadata": {},
     "output_type": "display_data"
    },
    {
     "data": {
      "text/plain": [
       "86.3"
      ]
     },
     "execution_count": 59,
     "metadata": {},
     "output_type": "execute_result"
    }
   ],
   "source": [
    "#SECONDS\n",
    "\n",
    "xpoints = np.array(list(range(1, i_max+1)))\n",
    "ypoints = np.array(all_fitness_winners)\n",
    "\n",
    "plt.xlabel(\"generation\")\n",
    "plt.ylabel(\"avg wait time\")\n",
    "\n",
    "plt.plot(xpoints, ypoints)\n",
    "plt.show()\n",
    "\n",
    "min(all_fitness_winners)"
   ]
  },
  {
   "cell_type": "code",
   "execution_count": 60,
   "metadata": {},
   "outputs": [
    {
     "data": {
      "text/plain": [
       "86.3"
      ]
     },
     "execution_count": 60,
     "metadata": {},
     "output_type": "execute_result"
    }
   ],
   "source": [
    "min(all_fitness_winners)"
   ]
  },
  {
   "attachments": {},
   "cell_type": "markdown",
   "metadata": {},
   "source": [
    "one day data"
   ]
  },
  {
   "cell_type": "code",
   "execution_count": 61,
   "metadata": {},
   "outputs": [],
   "source": [
    "import pandas as pd\n",
    "mydata=pd.read_csv('file_name.csv')"
   ]
  },
  {
   "cell_type": "code",
   "execution_count": 62,
   "metadata": {},
   "outputs": [
    {
     "name": "stdout",
     "output_type": "stream",
     "text": [
      "egy napi hivas tomb merete 91\n",
      "[[0, 8], [0, 2], [0, 17], [0, 3], [0, 11], [0, 12], [0, 10], [2, 1], [0, 9], [2, 1], [0, 19], [9, 6], [0, 19], [2, 0], [0, 6], [0, 14], [10, 8], [0, 20], [19, 14], [0, 17], [0, 8], [19, 1], [0, 15], [0, 9], [0, 9], [16, 15], [11, 0], [0, 14], [0, 14], [0, 11], [0, 10], [0, 15], [19, 10], [16, 2], [0, 7], [19, 10], [0, 9], [0, 14], [16, 8], [0, 12], [0, 1], [0, 10], [0, 18], [2, 0], [0, 17], [2, 1], [16, 12], [0, 11], [11, 4], [2, 1], [11, 1], [0, 4], [2, 1], [4, 3], [0, 16], [9, 7], [12, 10], [2, 0], [0, 18], [2, 0], [2, 1], [16, 9], [16, 10], [0, 11], [0, 8], [18, 11], [0, 16], [2, 0], [0, 14], [12, 8], [0, 16], [9, 1], [8, 4], [7, 3], [0, 8], [0, 1], [0, 5], [10, 7], [12, 7], [0, 15], [0, 11], [14, 5], [0, 8], [10, 7], [10, 4], [10, 7], [0, 9], [0, 19], [10, 5], [2, 0]]\n"
     ]
    }
   ],
   "source": [
    "subdata = mydata.loc[(mydata['year'] == 2019) & (mydata['month'] == 1)  & (mydata['day'] == 1)]\n",
    "floors = array = subdata['floor'].to_numpy()\n",
    "destinations = array = subdata['destination'].to_numpy()\n",
    "calls = []\n",
    "size = len(floors)\n",
    "\n",
    "print (\"egy napi hivas tomb merete\", size)\n",
    "\n",
    "for i in range(0, size - 1):\n",
    "    calls.append([floors[i], destinations[i]])\n",
    "\n",
    "print(calls)"
   ]
  },
  {
   "cell_type": "code",
   "execution_count": 64,
   "metadata": {},
   "outputs": [
    {
     "data": {
      "text/plain": [
       "[[0, 8],\n",
       " [0, 2],\n",
       " [0, 17],\n",
       " [0, 3],\n",
       " [0, 11],\n",
       " [0, 12],\n",
       " [0, 10],\n",
       " [2, 1],\n",
       " [0, 9],\n",
       " [2, 1],\n",
       " [0, 19],\n",
       " [9, 6],\n",
       " [0, 19],\n",
       " [2, 0],\n",
       " [0, 6],\n",
       " [0, 14],\n",
       " [10, 8],\n",
       " [0, 20],\n",
       " [19, 14],\n",
       " [0, 17],\n",
       " [0, 8],\n",
       " [19, 1],\n",
       " [0, 15],\n",
       " [0, 9],\n",
       " [0, 9],\n",
       " [16, 15],\n",
       " [11, 0],\n",
       " [0, 14],\n",
       " [0, 14],\n",
       " [0, 11],\n",
       " [0, 10],\n",
       " [0, 15],\n",
       " [19, 10],\n",
       " [16, 2],\n",
       " [0, 7],\n",
       " [19, 10],\n",
       " [0, 9],\n",
       " [0, 14],\n",
       " [16, 8],\n",
       " [0, 12],\n",
       " [0, 1],\n",
       " [0, 10],\n",
       " [0, 18],\n",
       " [2, 0],\n",
       " [0, 17],\n",
       " [2, 1],\n",
       " [16, 12],\n",
       " [0, 11],\n",
       " [11, 4],\n",
       " [2, 1],\n",
       " [11, 1],\n",
       " [0, 4],\n",
       " [2, 1],\n",
       " [4, 3],\n",
       " [0, 16],\n",
       " [9, 7],\n",
       " [12, 10],\n",
       " [2, 0],\n",
       " [0, 18],\n",
       " [2, 0],\n",
       " [2, 1],\n",
       " [16, 9],\n",
       " [16, 10],\n",
       " [0, 11],\n",
       " [0, 8],\n",
       " [18, 11],\n",
       " [0, 16],\n",
       " [2, 0],\n",
       " [0, 14],\n",
       " [12, 8],\n",
       " [0, 16],\n",
       " [9, 1],\n",
       " [8, 4],\n",
       " [7, 3],\n",
       " [0, 8],\n",
       " [0, 1],\n",
       " [0, 5],\n",
       " [10, 7],\n",
       " [12, 7],\n",
       " [0, 15],\n",
       " [0, 11],\n",
       " [14, 5],\n",
       " [0, 8],\n",
       " [10, 7],\n",
       " [10, 4],\n",
       " [10, 7],\n",
       " [0, 9],\n",
       " [0, 19],\n",
       " [10, 5],\n",
       " [2, 0]]"
      ]
     },
     "execution_count": 64,
     "metadata": {},
     "output_type": "execute_result"
    }
   ],
   "source": [
    "calls"
   ]
  },
  {
   "cell_type": "code",
   "execution_count": 66,
   "metadata": {},
   "outputs": [
    {
     "name": "stdout",
     "output_type": "stream",
     "text": [
      "E 1 & $ 79.94 $ & $ 76.3 $ & $ 81.9 $ & $ 4.682 $ \\\\\n",
      "\\hline\n",
      "E 2 & $ 80.06 $ & $ 78.3 $ & $ 81.5 $ & $ 4.705 $ \\\\\n",
      "\\hline\n",
      "E 3 & $ 80.16 $ & $ 77.1 $ & $ 83.3 $ & $ 4.702 $ \\\\\n",
      "\\hline\n",
      "E 4 & $ 79.85 $ & $ 76.5 $ & $ 81.8 $ & $ 4.468 $ \\\\\n",
      "\\hline\n",
      "\n"
     ]
    }
   ],
   "source": [
    "crossover_r = 0.2\n",
    "mutation_r = 0.8\n",
    "maxi = 10\n",
    "calls = calls_from_article\n",
    "go_over_all_crossover_and_mutation_at_rates_with_data(crossover_r, mutation_r, calls, maxi)"
   ]
  },
  {
   "cell_type": "code",
   "execution_count": null,
   "metadata": {},
   "outputs": [],
   "source": []
  }
 ],
 "metadata": {
  "kernelspec": {
   "display_name": "new",
   "language": "python",
   "name": "python3"
  },
  "language_info": {
   "codemirror_mode": {
    "name": "ipython",
    "version": 3
   },
   "file_extension": ".py",
   "mimetype": "text/x-python",
   "name": "python",
   "nbconvert_exporter": "python",
   "pygments_lexer": "ipython3",
   "version": "3.10.11"
  },
  "orig_nbformat": 4
 },
 "nbformat": 4,
 "nbformat_minor": 2
}
