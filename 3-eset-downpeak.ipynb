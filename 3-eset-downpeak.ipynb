{
 "cells": [
  {
   "cell_type": "code",
   "execution_count": 9,
   "metadata": {},
   "outputs": [],
   "source": [
    "import random\n",
    "import numpy as np\n",
    "import matplotlib.pyplot as plt"
   ]
  },
  {
   "attachments": {},
   "cell_type": "markdown",
   "metadata": {},
   "source": [
    "functions for the genetic algorithm"
   ]
  },
  {
   "cell_type": "code",
   "execution_count": 10,
   "metadata": {},
   "outputs": [],
   "source": [
    "# generating a set of feasible solutions / cronosomes\n",
    "# every gene is a level where there is a call, the elements are the order in wich they are answered\n",
    "def generateChronosome(size):\n",
    "    chronosome = list(range(1, size+1))\n",
    "    random.shuffle(chronosome)\n",
    "    return chronosome\n",
    "\n",
    "def generateChronosomes(size, m):\n",
    "    chronosomes = []\n",
    "    for i in range(0, m):\n",
    "        chronosome = generateChronosome(size)\n",
    "        chronosomes.append(chronosome)\n",
    "    return chronosomes\n",
    "\n",
    "# fitness\n",
    "def countFitness(FN, CN, DF, CB, CA, DB, BFT, LT, OT, CT):\n",
    "    N1 = abs(FN - CN) # N1 - number of floor between passanger and elevator\n",
    "    N2 = abs(FN - DF) # N2 - number of floors between passanger and elevator\n",
    "    WT = BFT + N1 + LT * CB + LT * DB + OT # waiting time of a passanger\n",
    "    DT = CT + LT * CA + BFT * N2 + LT * DB + OT # destination time of a passanger\n",
    "    JT = DT + WT # journey time, the obj of the EDP\n",
    "    return JT\n",
    "\n",
    "# count fitness for every chronosome\n",
    "def countFitnessForChronosomes(elevator_floor, calls, chronosomes, BFT, LT, OT, CT):\n",
    "    fitness_values = []\n",
    "    n = len(chronosomes[0])\n",
    "    FN = elevator_floor\n",
    "    for chronosome in chronosomes:\n",
    "        fitness = 0\n",
    "        CB = 0 # CB - number of calls made before current passanger\n",
    "        DB = 0 # DB - number of drops offs before current passanger\n",
    "        for i in range(0, n):\n",
    "            CN = calls[chronosome[i] - 1][0]\n",
    "            DF = calls[chronosome[i] - 1][1]\n",
    "            CA = n - i - 1 # CA - number of calls made after the current passanger\n",
    "            fitness += countFitness(FN, CN, DF, CB, CA, DB, BFT, LT, OT, CT)\n",
    "            CB += 1\n",
    "            for j in range(chronosome[i] - 1, len(calls)):\n",
    "                if FN < calls[j][1] < DF:\n",
    "                    DB += 1\n",
    "            FN = calls[chronosome[i] - 1][1]\n",
    "        fitness_values.append(fitness / n)\n",
    "    return fitness_values\n",
    "\n",
    "# helper\n",
    "\n",
    "def getWinner(fitness_values, chronosomes):\n",
    "    sorted_indexes = np.argsort(fitness_values).tolist()\n",
    "    elite_member = chronosomes[sorted_indexes[0]]\n",
    "    best_fitness = fitness_values[sorted_indexes[0]]\n",
    "    return elite_member, best_fitness"
   ]
  },
  {
   "attachments": {},
   "cell_type": "markdown",
   "metadata": {},
   "source": [
    "crossover variants"
   ]
  },
  {
   "cell_type": "code",
   "execution_count": 11,
   "metadata": {},
   "outputs": [],
   "source": [
    "# helper\n",
    "def fill_in_zeros(child, values, size):\n",
    "    j=0\n",
    "    for i in range (0, size):\n",
    "        if child[i] == 0:\n",
    "            child[i] = values[j]\n",
    "            j += 1\n",
    "    return child\n",
    "\n",
    "def orderCrossover(parent1, parent2):\n",
    "    number_of_genes = len(parent1)\n",
    "    child = number_of_genes * [0]\n",
    "    a = random.randint(1,number_of_genes - 1)\n",
    "    b = random.randint(1,number_of_genes - 1)\n",
    "    start = min(a, b)\n",
    "    stop = max(a, b)\n",
    "    for i in range (start, stop+1):\n",
    "        child[i] = parent1[i]\n",
    "    c = [i for i in parent2 if i not in child]\n",
    "    child = fill_in_zeros(child, c, number_of_genes)\n",
    "    return child\n",
    "\n",
    "def position_based_crossover(parent1, parent2):\n",
    "    number_of_genes = len(parent1)\n",
    "    number_of_genes_to_swap = random.randint(1, number_of_genes-1)\n",
    "    positions = random.sample(range(number_of_genes), number_of_genes_to_swap)\n",
    "    child = [0] * number_of_genes\n",
    "\n",
    "    for i in positions:\n",
    "        child[i] = parent1[i]\n",
    "    c = [i for i in parent2 if i not in child]\n",
    "    child = fill_in_zeros(child, c, number_of_genes)\n",
    "    return child\n",
    "    \n",
    "def order_based_crossover(p1, p2):\n",
    "    number_of_genes = len(p1)\n",
    "    number_of_genes_to_swap = random.randint(1, number_of_genes-1)\n",
    "    positions_from_second_parent = random.sample(range(number_of_genes), number_of_genes_to_swap)\n",
    "    child = [0] * number_of_genes\n",
    "    values_in_first_parent = []\n",
    "    positions_in_first_parent = []\n",
    "\n",
    "    for i in positions_from_second_parent:\n",
    "        values_in_first_parent.append(p2[i])\n",
    "    \n",
    "    for i in values_in_first_parent:\n",
    "        positions_in_first_parent.append(p1.index(i))\n",
    "\n",
    "    positions_in_first_parent.sort()\n",
    "    j = 0\n",
    "    for i in positions_in_first_parent:\n",
    "        child[i] = values_in_first_parent[j]\n",
    "        j += 1\n",
    "\n",
    "    c = [i for i in p1 if i not in child]\n",
    "    child = fill_in_zeros(child, c, number_of_genes)\n",
    "    return child\n"
   ]
  },
  {
   "attachments": {},
   "cell_type": "markdown",
   "metadata": {},
   "source": [
    "mutation variants"
   ]
  },
  {
   "cell_type": "code",
   "execution_count": 12,
   "metadata": {},
   "outputs": [],
   "source": [
    "def swapMutation(number_of_genes, mutant_member):\n",
    "    a = random.randint(0, number_of_genes - 1)\n",
    "    b = random.randint(0, number_of_genes - 1)\n",
    "    gene = mutant_member[a]\n",
    "    mutant_member[a] = mutant_member[b]\n",
    "    mutant_member[b] = gene\n",
    "    return mutant_member\n",
    "\n",
    "def inversion_mutation(mutant_member):\n",
    "    number_of_genes = len(mutant_member)\n",
    "    a = random.randint(1,number_of_genes - 1)\n",
    "    b = random.randint(1,number_of_genes - 1)\n",
    "    start = min(a, b)\n",
    "    stop = max(a, b)\n",
    "    start = 2\n",
    "    stop = 5\n",
    "    cc = mutant_member[:]\n",
    "    pos = stop\n",
    "    for i in range(start, stop+1):\n",
    "        mutant_member[i] = cc[pos]\n",
    "        pos -= 1\n",
    "    return mutant_member\n",
    "\n",
    "def insertion_mutation(mutant_member):\n",
    "    number_of_genes = len(mutant_member)\n",
    "    positions = random.sample(range(number_of_genes), 2)\n",
    "    pos1 = positions[0]\n",
    "    pos2 = positions[1]\n",
    "    first_half = mutant_member[:pos2]\n",
    "    second_half = mutant_member[pos2:]\n",
    "    if (first_half.count(mutant_member[pos1])):\n",
    "        first_half.remove(mutant_member[pos1])\n",
    "    elif (second_half.count(mutant_member[pos1])):\n",
    "        second_half.remove(mutant_member[pos1])\n",
    "    first_half.append(mutant_member[pos1])\n",
    "    mutant_member = first_half + second_half\n",
    "    return mutant_member\n",
    "\n",
    "def exchange_mutation(mutant_member):\n",
    "    number_of_genes = len(mutant_member)\n",
    "    positions = random.sample(range(number_of_genes), 2)\n",
    "    a = mutant_member[positions[0]]\n",
    "    mutant_member[positions[0]] = mutant_member[positions[1]]\n",
    "    mutant_member[positions[1]] = a\n",
    "    return mutant_member"
   ]
  },
  {
   "attachments": {},
   "cell_type": "markdown",
   "metadata": {},
   "source": [
    "functions for the measurements\n"
   ]
  },
  {
   "cell_type": "code",
   "execution_count": 13,
   "metadata": {},
   "outputs": [],
   "source": [
    "# wait time for a passenger to the elevator\n",
    "def countPassangerWaitTimeForElevator(FN, CN, CB, DB, BFT, LT, OT):\n",
    "    N1 = abs(FN - CN) # N1 - number of floor between passanger and elevator\n",
    "    WT = BFT + N1 + LT * CB + LT * DB + OT # waiting time of a passanger\n",
    "    return WT\n",
    "\n",
    "# wait times for passangers, calculated from the solution\n",
    "def calculateWaitTimesForElevatorFromChronosome(elevator_start_floor, calls_from_article, solution, BFT, LT, OT):\n",
    "    FN = elevator_start_floor\n",
    "    calls = calls_from_article\n",
    "    wait_times = []\n",
    "    DB = 0\n",
    "    CB = 0\n",
    "    for i in range(0, len(solution)):\n",
    "        CN = calls[solution[i] - 1][0]\n",
    "        DF = calls[solution[i] - 1][1]\n",
    "        WT = countPassangerWaitTimeForElevator(FN, CN, CB, DB, BFT, LT, OT)\n",
    "        CB += 1\n",
    "        for j in range(solution[i] - 1, len(calls)):\n",
    "            if FN < calls[j][1] < DF:\n",
    "                DB += 1\n",
    "        FN = calls[solution[i] - 1][1]\n",
    "        wait_times.append(WT)\n",
    "    return wait_times"
   ]
  },
  {
   "cell_type": "code",
   "execution_count": 14,
   "metadata": {},
   "outputs": [],
   "source": [
    "# data from x iteration\n",
    "def iterateOver(max_it, genetic_i_max):\n",
    "    sum_fit = 0\n",
    "    waits = 0\n",
    "    bests = []\n",
    "    for i in range(0, max_it):\n",
    "        solution, fitness, all_fitness_winners = geneticAlgorithm(\n",
    "            elevator_start_floor, m, BFT, LT, OT, CT, number_of_genes, calls_from_article, \n",
    "            genetic_i_max, crossover_rate, mutation_rate, crossover_type, mutation_type)\n",
    "        sum_fit += fitness\n",
    "        \n",
    "        wait_times = calculateWaitTimesForElevatorFromChronosome(elevator_start_floor, calls_from_article, solution, BFT, LT, OT)\n",
    "        wait = np.mean(wait_times)\n",
    "        waits += wait\n",
    "        bests.append(fitness)\n",
    "    avg_fitness = sum_fit / max_it\n",
    "    avg_wait = waits / 60\n",
    "    return avg_fitness, avg_wait, bests"
   ]
  },
  {
   "attachments": {},
   "cell_type": "markdown",
   "metadata": {},
   "source": [
    "for the tables"
   ]
  },
  {
   "cell_type": "code",
   "execution_count": 15,
   "metadata": {},
   "outputs": [],
   "source": [
    "# every crossover and mutation\n",
    "def iterateOverExtra(max_it,crossover, mutation, crossover_rate, mutation_rate, calls):\n",
    "    sum_fit = 0\n",
    "    waits = 0\n",
    "    bests = []\n",
    "    for i in range(0, max_it):\n",
    "        solution, fitness, all_fitness_winners = geneticAlgorithm(\n",
    "            elevator_start_floor, m, BFT, LT, OT, CT, number_of_genes, calls, \n",
    "            i_max, crossover_rate, mutation_rate, crossover, mutation)\n",
    "        sum_fit += fitness\n",
    "\n",
    "        wait_times = calculateWaitTimesForElevatorFromChronosome(elevator_start_floor, calls, solution, BFT, LT, OT)\n",
    "        wait = np.mean(wait_times)\n",
    "        waits += wait\n",
    "        bests.append(fitness)\n",
    "    avg_fitness = sum_fit / max_it\n",
    "    avg_wait = waits / 60\n",
    "    return avg_fitness, avg_wait, bests\n",
    "\n",
    "\n",
    "def go_over_all_crossover_and_mutation_at_rates_with_data(crossover_r, mutation_r, calls, maxi):\n",
    "    crossovers = [1,2,3]\n",
    "    mutations = [1,2,3,4]\n",
    "\n",
    "    max_it = maxi\n",
    "\n",
    "    x = 1\n",
    "    for crossover in crossovers:\n",
    "        for mutation in mutations:\n",
    "            \n",
    "            avg_fitness, avg_wait, bests =  iterateOverExtra(max_it, crossover, mutation, crossover_r, mutation_r, calls)\n",
    "            \n",
    "            print(\"E\", x, \"& $\", round(avg_fitness, 3), \"$ & $\", min(bests), \"$ & $\", max(bests), \"$ & $\", round(avg_wait, 3), '$ \\\\\\\\')\n",
    "            print(\"\\hline\")\n",
    "            x += 1\n",
    "        print()"
   ]
  },
  {
   "attachments": {},
   "cell_type": "markdown",
   "metadata": {},
   "source": [
    "genetic algortim"
   ]
  },
  {
   "cell_type": "code",
   "execution_count": 16,
   "metadata": {},
   "outputs": [],
   "source": [
    "def geneticAlgorithm(elevator_floor, m, BFT, LT, OT, CT, number_of_genes, calls, i_max, crossover_rate, mutation_rate, crossover_type, mutation_type):\n",
    "    chronosomes = generateChronosomes(number_of_genes, m)\n",
    "\n",
    "    fitness_values = countFitnessForChronosomes(elevator_floor, calls, chronosomes, BFT, LT, OT, CT)\n",
    "    all_fitness_winners = []\n",
    "    \n",
    "    for i in range (0, i_max):\n",
    "        \n",
    "        # categorisation by fitness values : elite, cross-over, mutant\n",
    "        sorted_indexes = np.argsort(fitness_values).tolist()\n",
    "        elite_member = chronosomes[sorted_indexes[0]]\n",
    "        crossover_member_1 = chronosomes[sorted_indexes[1]]\n",
    "        crossover_member_2 = chronosomes[sorted_indexes[2]]\n",
    "        mutant_member = chronosomes[sorted_indexes[3]]\n",
    "\n",
    "        sv = fitness_values[sorted_indexes[0]]\n",
    "\n",
    "        # cross-over operations -- Davis cross-over (order crossover)\n",
    "        crossover = False\n",
    "        if random.uniform(0, 1) > crossover_rate:\n",
    "            crossover = True\n",
    "            match crossover_type:\n",
    "                case 1:\n",
    "                    child = orderCrossover(crossover_member_1, crossover_member_2)\n",
    "                case 2: \n",
    "                    child = position_based_crossover(crossover_member_1, crossover_member_2)\n",
    "                case 3:\n",
    "                    child = order_based_crossover(crossover_member_1, crossover_member_2)\n",
    "                \n",
    "        # mutation operations -- swap mutation -- select two pos at random and swap them\n",
    "        mutation = False\n",
    "        if random.uniform(0, 1) > mutation_rate:\n",
    "            mutation = True\n",
    "            match mutation_type:\n",
    "                case 1:\n",
    "                    mutated = swapMutation(number_of_genes, mutant_member)\n",
    "                case 2: \n",
    "                    mutated = inversion_mutation(mutant_member)\n",
    "                case 3:\n",
    "                    mutated = insertion_mutation(mutant_member)\n",
    "                case 4:\n",
    "                    mutated = exchange_mutation(mutant_member)\n",
    "\n",
    "        # compute fitness values again after the operations\n",
    "        new_chronosomes = []\n",
    "        new_chronosomes.append(elite_member)\n",
    "        if crossover:\n",
    "            new_chronosomes.append(child)\n",
    "        else:\n",
    "            new_chronosomes.append(generateChronosome(number_of_genes))\n",
    "        if mutation:\n",
    "            new_chronosomes.append(mutated)\n",
    "        else:\n",
    "            new_chronosomes.append(generateChronosome(number_of_genes))\n",
    "        new_chronosomes.append(generateChronosome(number_of_genes))\n",
    "        chronosomes = new_chronosomes\n",
    "        fitness_values = countFitnessForChronosomes(elevator_floor, calls, chronosomes, BFT, LT, OT, CT)\n",
    "        fitness_values[0] = sv\n",
    "        all_fitness_winners.append(sv)\n",
    "    \n",
    "    elite_member, best_fitness = getWinner(fitness_values, chronosomes)\n",
    "    return elite_member, best_fitness, all_fitness_winners"
   ]
  },
  {
   "attachments": {},
   "cell_type": "markdown",
   "metadata": {},
   "source": [
    "general data"
   ]
  },
  {
   "cell_type": "code",
   "execution_count": 17,
   "metadata": {},
   "outputs": [],
   "source": [
    "#  ELEVATOR\n",
    "OT = 2 #opening time\n",
    "CT = 2 #closing time\n",
    "PLT = 5 #passangers load time\n",
    "BFT = 5 #between floors\n",
    "LT = OT + CT + PLT  #load time\n",
    "elevator_start_floor = 4\n",
    "\n",
    "# BUILDING\n",
    "number_of_floors = 20"
   ]
  },
  {
   "attachments": {},
   "cell_type": "markdown",
   "metadata": {},
   "source": [
    "DOWNPEAK TRAFFIC"
   ]
  },
  {
   "cell_type": "code",
   "execution_count": 18,
   "metadata": {},
   "outputs": [],
   "source": [
    "# DATA FOR GENETIC ALGORITM\n",
    "i_max = 100 # generations\n",
    "m = 4 # population size\n",
    "crossover_rate = 0.2 # 0.2 -- 80%\n",
    "mutation_rate = 0.8\n",
    "\n",
    "#CALLS #[from, to]\n",
    "calls_from_article = [[5,0], [6,0], [3,0], [11, 0], [20, 0], [10, 0], [13, 0], [1, 0], [16, 0], [1, 0]]\n",
    "number_of_genes = len(calls_from_article)\n",
    "\n",
    "# crossover types: \n",
    "# 1-order crossover \n",
    "# 2-position crossover \n",
    "# 3-order based crossover\n",
    "crossover_type = 1\n",
    "\n",
    "# mutation types: \n",
    "# 1-swap mutation \n",
    "# 2-inversion mutation \n",
    "# 3-insertion mutation \n",
    "# 4-exchange mutation\n",
    "mutation_type = 1"
   ]
  },
  {
   "cell_type": "code",
   "execution_count": 19,
   "metadata": {},
   "outputs": [
    {
     "name": "stdout",
     "output_type": "stream",
     "text": [
      "100.6\n"
     ]
    }
   ],
   "source": [
    "i_max =  100\n",
    "solution, fitness, all_fitness_winners = geneticAlgorithm(\n",
    "    elevator_start_floor, m, BFT, LT, OT, CT, number_of_genes, calls_from_article, \n",
    "    i_max, crossover_rate, mutation_rate, crossover_type, mutation_type)\n",
    "print(fitness)"
   ]
  },
  {
   "cell_type": "code",
   "execution_count": 20,
   "metadata": {},
   "outputs": [
    {
     "name": "stdout",
     "output_type": "stream",
     "text": [
      "wait times for each passanger [9, 17, 36, 35, 48, 72, 77, 80, 82, 101]\n",
      "avg wait times for the elevator to arrive in sec 55.7\n"
     ]
    }
   ],
   "source": [
    "## waiting time of a passanger\n",
    "\n",
    "wait_times = calculateWaitTimesForElevatorFromChronosome(elevator_start_floor, calls_from_article, solution, BFT, LT, OT)\n",
    "print(\"wait times for each passanger\", wait_times)\n",
    "print(\"avg wait times for the elevator to arrive in sec\", np.mean(wait_times))"
   ]
  },
  {
   "cell_type": "code",
   "execution_count": 21,
   "metadata": {},
   "outputs": [
    {
     "name": "stdout",
     "output_type": "stream",
     "text": [
      "10\n",
      "20\n",
      "30\n",
      "40\n",
      "50\n",
      "60\n",
      "70\n",
      "80\n",
      "90\n",
      "100\n",
      "[100.60000000000018, 100.60000000000018, 100.60000000000018, 100.60000000000018, 100.60000000000018, 100.60000000000018, 100.60000000000018, 100.60000000000018, 100.60000000000018, 100.60000000000018]\n"
     ]
    }
   ],
   "source": [
    "max_it = 100\n",
    "min_g_a_gens = 10\n",
    "max_g_a_gens = 100\n",
    "step = 10\n",
    "\n",
    "f_n = []\n",
    "its = []\n",
    "\n",
    "for i in range(min_g_a_gens, max_g_a_gens + 1, step):\n",
    "    its.append(i)\n",
    "    avg_fitness, avg_wait, bests =  iterateOver(max_it, i)\n",
    "    f_n.append(avg_fitness)\n",
    "    print(i)\n",
    "print(f_n)"
   ]
  },
  {
   "cell_type": "code",
   "execution_count": 22,
   "metadata": {},
   "outputs": [
    {
     "data": {
      "image/png": "[encoded data removed]",
      "text/plain": [
       "<Figure size 640x480 with 1 Axes>"
      ]
     },
     "metadata": {},
     "output_type": "display_data"
    },
    {
     "name": "stdout",
     "output_type": "stream",
     "text": [
      "[100.60000000000018, 100.60000000000018, 100.60000000000018, 100.60000000000018, 100.60000000000018, 100.60000000000018, 100.60000000000018, 100.60000000000018, 100.60000000000018, 100.60000000000018]\n"
     ]
    }
   ],
   "source": [
    "xpoints = np.array(list(range(min_g_a_gens, max_g_a_gens +1 , step)))\n",
    "ypoints = np.array(f_n)\n",
    "\n",
    "plt.xlabel(\"generációk\")\n",
    "plt.ylabel(\"átlag idő (mp)\")\n",
    "\n",
    "plt.plot(xpoints, ypoints)\n",
    "plt.show()\n",
    "\n",
    "print(f_n)"
   ]
  },
  {
   "cell_type": "code",
   "execution_count": 23,
   "metadata": {},
   "outputs": [
    {
     "name": "stdout",
     "output_type": "stream",
     "text": [
      "E 1 & $ 100.6 $ & $ 100.6 $ & $ 100.6 $ & $ 93.077 $ \\\\\n",
      "\\hline\n",
      "E 2 & $ 100.6 $ & $ 100.6 $ & $ 100.6 $ & $ 93.11 $ \\\\\n",
      "\\hline\n",
      "E 3 & $ 100.6 $ & $ 100.6 $ & $ 100.6 $ & $ 93.047 $ \\\\\n",
      "\\hline\n",
      "E 4 & $ 100.6 $ & $ 100.6 $ & $ 100.6 $ & $ 93.07 $ \\\\\n",
      "\\hline\n",
      "\n",
      "E 5 & $ 100.6 $ & $ 100.6 $ & $ 100.6 $ & $ 93.087 $ \\\\\n",
      "\\hline\n",
      "E 6 & $ 100.6 $ & $ 100.6 $ & $ 100.6 $ & $ 93.023 $ \\\\\n",
      "\\hline\n",
      "E 7 & $ 100.6 $ & $ 100.6 $ & $ 100.6 $ & $ 93.127 $ \\\\\n",
      "\\hline\n",
      "E 8 & $ 100.6 $ & $ 100.6 $ & $ 100.6 $ & $ 93.133 $ \\\\\n",
      "\\hline\n",
      "\n",
      "E 9 & $ 100.6 $ & $ 100.6 $ & $ 100.6 $ & $ 93.117 $ \\\\\n",
      "\\hline\n",
      "E 10 & $ 100.6 $ & $ 100.6 $ & $ 100.6 $ & $ 93.033 $ \\\\\n",
      "\\hline\n",
      "E 11 & $ 100.6 $ & $ 100.6 $ & $ 100.6 $ & $ 93.033 $ \\\\\n",
      "\\hline\n",
      "E 12 & $ 100.6 $ & $ 100.6 $ & $ 100.6 $ & $ 93.107 $ \\\\\n",
      "\\hline\n",
      "\n"
     ]
    }
   ],
   "source": [
    "calls = calls_from_article\n",
    "crossover_r = 0.8 # 0.8 --- 20%\n",
    "mutation_r = 0.2\n",
    "\n",
    "go_over_all_crossover_and_mutation_at_rates_with_data(crossover_r, mutation_r, calls, i_max)"
   ]
  },
  {
   "cell_type": "code",
   "execution_count": 24,
   "metadata": {},
   "outputs": [],
   "source": [
    "all_calls = []\n",
    "\n",
    "for i in range (0, 10):\n",
    "    new_calls = []\n",
    "    start_floors = random.sample(range(1, 20), 10)\n",
    "    for s in start_floors:\n",
    "        new_calls.append([s, 0])\n",
    "    all_calls.append(new_calls)"
   ]
  },
  {
   "cell_type": "code",
   "execution_count": 25,
   "metadata": {},
   "outputs": [
    {
     "name": "stdout",
     "output_type": "stream",
     "text": [
      "[[13, 0], [12, 0], [5, 0], [3, 0], [11, 0], [17, 0], [14, 0], [4, 0], [2, 0], [7, 0]]\n",
      "[[12, 0], [9, 0], [7, 0], [10, 0], [16, 0], [1, 0], [15, 0], [13, 0], [17, 0], [3, 0]]\n",
      "[[13, 0], [8, 0], [6, 0], [11, 0], [12, 0], [9, 0], [3, 0], [19, 0], [18, 0], [14, 0]]\n",
      "[[18, 0], [17, 0], [5, 0], [9, 0], [6, 0], [10, 0], [13, 0], [7, 0], [11, 0], [14, 0]]\n",
      "[[18, 0], [2, 0], [12, 0], [6, 0], [17, 0], [3, 0], [9, 0], [15, 0], [7, 0], [1, 0]]\n",
      "[[9, 0], [10, 0], [16, 0], [18, 0], [13, 0], [14, 0], [6, 0], [15, 0], [19, 0], [5, 0]]\n",
      "[[3, 0], [1, 0], [4, 0], [14, 0], [18, 0], [6, 0], [19, 0], [9, 0], [7, 0], [11, 0]]\n",
      "[[18, 0], [12, 0], [7, 0], [4, 0], [15, 0], [6, 0], [9, 0], [8, 0], [10, 0], [3, 0]]\n",
      "[[14, 0], [18, 0], [1, 0], [10, 0], [5, 0], [4, 0], [12, 0], [16, 0], [17, 0], [3, 0]]\n",
      "[[12, 0], [16, 0], [11, 0], [6, 0], [17, 0], [1, 0], [7, 0], [5, 0], [4, 0], [19, 0]]\n"
     ]
    }
   ],
   "source": [
    "for call in all_calls:\n",
    "    print(call)"
   ]
  },
  {
   "cell_type": "code",
   "execution_count": 26,
   "metadata": {},
   "outputs": [
    {
     "name": "stdout",
     "output_type": "stream",
     "text": [
      "102.10999999999999\n"
     ]
    }
   ],
   "source": [
    "i_max = 100\n",
    "fitnesses = []\n",
    "for call in all_calls:\n",
    "    number_of_genes = len(call)\n",
    "    solution, fitness, all_fitness_winners = geneticAlgorithm(\n",
    "    elevator_start_floor, m, BFT, LT, OT, CT, number_of_genes, call, \n",
    "    i_max, crossover_rate, mutation_rate, crossover_type, mutation_type)\n",
    "    fitnesses.append(fitness)\n",
    "print(np.mean(fitnesses))"
   ]
  },
  {
   "attachments": {},
   "cell_type": "markdown",
   "metadata": {},
   "source": [
    "floors"
   ]
  },
  {
   "cell_type": "code",
   "execution_count": 27,
   "metadata": {},
   "outputs": [],
   "source": [
    "all_calls = []\n",
    "max_level = 5\n",
    "\n",
    "downpeak = False\n",
    "\n",
    "for i in range (0, 10):\n",
    "    new_calls = []\n",
    "    start_floors = np.random.randint(1,max_level, size=10)\n",
    "    for s in start_floors:\n",
    "        if downpeak:\n",
    "            new_calls.append([s, 0])\n",
    "        else:\n",
    "            new_calls.append([s, random.randint(0,max_level)])\n",
    "    all_calls.append(new_calls)"
   ]
  },
  {
   "cell_type": "code",
   "execution_count": 28,
   "metadata": {},
   "outputs": [
    {
     "name": "stdout",
     "output_type": "stream",
     "text": [
      "[[2, 5], [2, 0], [4, 2], [2, 3], [4, 5], [3, 1], [4, 0], [3, 4], [4, 5], [2, 4]]\n",
      "[[3, 3], [1, 3], [1, 4], [2, 4], [3, 2], [4, 0], [1, 4], [1, 1], [1, 2], [2, 0]]\n",
      "[[4, 4], [4, 4], [1, 3], [2, 0], [2, 4], [3, 5], [3, 5], [3, 0], [1, 4], [3, 0]]\n",
      "[[1, 0], [2, 3], [1, 1], [3, 0], [4, 0], [4, 1], [4, 3], [2, 1], [1, 5], [2, 0]]\n",
      "[[2, 1], [1, 5], [4, 2], [2, 0], [2, 0], [4, 3], [1, 2], [2, 2], [1, 5], [1, 2]]\n",
      "[[3, 0], [4, 4], [1, 5], [4, 2], [1, 3], [1, 5], [2, 0], [1, 5], [4, 0], [3, 1]]\n",
      "[[3, 3], [2, 3], [1, 2], [2, 4], [4, 0], [4, 0], [3, 3], [4, 5], [1, 1], [4, 0]]\n",
      "[[3, 0], [4, 4], [3, 0], [2, 1], [2, 2], [3, 2], [2, 4], [2, 4], [1, 2], [4, 5]]\n",
      "[[1, 4], [3, 5], [1, 5], [2, 1], [4, 2], [3, 0], [3, 2], [3, 4], [2, 3], [4, 0]]\n",
      "[[4, 4], [1, 5], [3, 0], [2, 2], [4, 3], [2, 3], [1, 2], [3, 2], [4, 2], [2, 4]]\n"
     ]
    }
   ],
   "source": [
    "for call in all_calls:\n",
    "    print(call)"
   ]
  },
  {
   "cell_type": "code",
   "execution_count": 29,
   "metadata": {},
   "outputs": [
    {
     "name": "stdout",
     "output_type": "stream",
     "text": [
      "97.53\n"
     ]
    }
   ],
   "source": [
    "generations = 1000\n",
    "fitnesses = []\n",
    "for call in all_calls:\n",
    "    number_of_genes = len(call)\n",
    "    solution, fitness, all_fitness_winners = geneticAlgorithm(\n",
    "    elevator_start_floor, m, BFT, LT, OT, CT, number_of_genes, call, \n",
    "    generations, crossover_rate, mutation_rate, crossover_type, mutation_type)\n",
    "    fitnesses.append(fitness)\n",
    "print(np.mean(fitnesses))"
   ]
  },
  {
   "cell_type": "code",
   "execution_count": 30,
   "metadata": {},
   "outputs": [
    {
     "name": "stdout",
     "output_type": "stream",
     "text": [
      "[96.7, 97.0, 97.7, 97.0, 97.2, 99.1, 97.5, 96.8, 99.4, 96.9]\n"
     ]
    }
   ],
   "source": [
    "print(fitnesses)"
   ]
  },
  {
   "cell_type": "code",
   "execution_count": 31,
   "metadata": {},
   "outputs": [
    {
     "data": {
      "text/plain": [
       "[10, 2, 1, 5, 6, 9, 8, 4, 7, 3]"
      ]
     },
     "execution_count": 31,
     "metadata": {},
     "output_type": "execute_result"
    }
   ],
   "source": [
    "solution"
   ]
  },
  {
   "cell_type": "code",
   "execution_count": 32,
   "metadata": {},
   "outputs": [
    {
     "name": "stdout",
     "output_type": "stream",
     "text": [
      "100.60000000000018\n"
     ]
    }
   ],
   "source": [
    "avg_fitness, avg_wait, bests = iterateOver(100, 1000)\n",
    "print(avg_fitness)"
   ]
  },
  {
   "cell_type": "code",
   "execution_count": null,
   "metadata": {},
   "outputs": [],
   "source": []
  }
 ],
 "metadata": {
  "kernelspec": {
   "display_name": "new",
   "language": "python",
   "name": "python3"
  },
  "language_info": {
   "codemirror_mode": {
    "name": "ipython",
    "version": 3
   },
   "file_extension": ".py",
   "mimetype": "text/x-python",
   "name": "python",
   "nbconvert_exporter": "python",
   "pygments_lexer": "ipython3",
   "version": "3.10.11"
  },
  "orig_nbformat": 4
 },
 "nbformat": 4,
 "nbformat_minor": 2
}
